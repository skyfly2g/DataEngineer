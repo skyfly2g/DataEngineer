{
 "cells": [
  {
   "cell_type": "markdown",
   "id": "95fed365",
   "metadata": {},
   "source": [
    "## Pandas 處理什麼樣的數據?\n",
    "\n",
    "要加載pandas套件並開始使用它，請import該package。一般要設定pandas別名為`pd`，因此將pandas加載為pd被一般pandas範例的常見做法。"
   ]
  },
  {
   "cell_type": "code",
   "execution_count": 1,
   "id": "92d8777b",
   "metadata": {},
   "outputs": [],
   "source": [
    "import pandas as pd"
   ]
  },
  {
   "cell_type": "markdown",
   "id": "0cc41efb",
   "metadata": {},
   "source": [
    "### pandas 資料結構的概念\n",
    "\n",
    "![](images/01_table_dataframe.svg)\n",
    "\n",
    "> <i class=\"fa fa-question-circle\" style=\"font-size: 22px;color:#DE3163;\"></i> 我想存儲Titanic的乘客數據。對於許多乘客，我知道姓名(str)，年齡(int)和性別(male/female)數據。\n",
    "\n",
    "要將數據存儲在表中，請創建一個`DataFrame`物件。"
   ]
  },
  {
   "cell_type": "code",
   "execution_count": 5,
   "id": "f947faaa",
   "metadata": {},
   "outputs": [
    {
     "name": "stdout",
     "output_type": "stream",
     "text": [
      "<class 'pandas.core.frame.DataFrame'>\n",
      "RangeIndex: 3 entries, 0 to 2\n",
      "Data columns (total 3 columns):\n",
      " #   Column  Non-Null Count  Dtype \n",
      "---  ------  --------------  ----- \n",
      " 0   Name    3 non-null      object\n",
      " 1   Age     3 non-null      int64 \n",
      " 2   Sex     3 non-null      object\n",
      "dtypes: int64(1), object(2)\n",
      "memory usage: 200.0+ bytes\n",
      "None\n",
      "                       Name  Age     Sex\n",
      "0   Braund, Mr. Owen Harris   22    male\n",
      "1  Allen, Mr. William Henry   35    male\n",
      "2  Bonnell, Miss. Elizabeth   58  female\n"
     ]
    }
   ],
   "source": [
    "df = pd.DataFrame(\n",
    "    {\n",
    "        \"Name\": [\n",
    "            \"Braund, Mr. Owen Harris\",\n",
    "            \"Allen, Mr. William Henry\",\n",
    "            \"Bonnell, Miss. Elizabeth\",\n",
    "        ],\n",
    "        \"Age\": [22, 35, 58],\n",
    "        \"Sex\": [\"male\", \"male\", \"female\"]\n",
    "    }\n",
    ")\n",
    "\n",
    "#Column info\n",
    "print(df.info())\n",
    "\n",
    "#前幾筆資料, 預設為5筆\n",
    "print(df.head())"
   ]
  },
  {
   "cell_type": "markdown",
   "id": "e19e5c84",
   "metadata": {},
   "source": [
    "`DataFrame`是一種二維數據結構，可以在Column中存儲不同類型的數據（包括字符，整數，浮點值，分類數據等）。它類似於R中的`data.frame`，SQL的`table`。\n",
    "\n",
    "在上述的範例:\n",
    "* 該資料表表有3個columns，每個column都有一個column label。Column label分別是Name, Age和Sex。\n",
    "* \"Name\"的column值由文字型別，每個值都是一個字串，\"Age\"是數字，\"Sex\"是文字數據。\n",
    "\n",
    "在Excel中，這個數據的表格形式與dataframe的形式非常相似：\n",
    "\n",
    "![](images/01_table_spreadsheet.png)"
   ]
  },
  {
   "cell_type": "markdown",
   "id": "03a4e6b5",
   "metadata": {},
   "source": [
    "### DataFrame中的每一列都是一個Series\n",
    "\n",
    "![](images/01_table_series.svg)\n",
    "\n",
    "當我們只是對使用\"Age\"列中的數據感興趣, 可以只選擇讀取pandas DataFrame單個列，pandas會返回一個pandas的`Series`物件。要選擇列，請使用方括號`[]`並標註要讀取的column label。"
   ]
  },
  {
   "cell_type": "code",
   "execution_count": 6,
   "id": "9ae8eb38",
   "metadata": {},
   "outputs": [
    {
     "name": "stdout",
     "output_type": "stream",
     "text": [
      "0    22\n",
      "1    35\n",
      "2    58\n",
      "Name: Age, dtype: int64\n",
      "<class 'pandas.core.series.Series'>\n"
     ]
    }
   ],
   "source": [
    "#取得dataframe裡的一列序列資料\n",
    "ages = df[\"Age\"]\n",
    "\n",
    "print(ages)\n",
    "\n",
    "print(type(ages))"
   ]
  },
  {
   "cell_type": "markdown",
   "id": "05031d6f",
   "metadata": {},
   "source": [
    "也可以從頭開始創建pandas的Series物件："
   ]
  },
  {
   "cell_type": "code",
   "execution_count": 7,
   "id": "eed4c90a",
   "metadata": {},
   "outputs": [
    {
     "name": "stdout",
     "output_type": "stream",
     "text": [
      "0    22\n",
      "1    35\n",
      "2    58\n",
      "Name: Age, dtype: int64\n",
      "<class 'pandas.core.series.Series'>\n"
     ]
    }
   ],
   "source": [
    "#創建Series\n",
    "ages = pd.Series([22, 35, 58], name=\"Age\")\n",
    "\n",
    "print(ages)\n",
    "\n",
    "print(type(ages))"
   ]
  },
  {
   "cell_type": "markdown",
   "id": "4dfe7521",
   "metadata": {},
   "source": [
    "### 使用 DataFrame 或 Series 來進行運算\n",
    "\n",
    "> <i class=\"fa fa-question-circle\" style=\"font-size: 22px;color:#DE3163;\"></i> 我想知道乘客的最大年齡\n",
    "\n",
    "> 如max()方法所示，您可以使用DataFrame或Series進行操作。 pandas提供了許多功能，每種功能都可以應用於DataFrame或Series。由於方法是函數，所以請不要忘記使用括號()。"
   ]
  },
  {
   "cell_type": "code",
   "execution_count": 8,
   "id": "72468599",
   "metadata": {},
   "outputs": [
    {
     "name": "stdout",
     "output_type": "stream",
     "text": [
      "58\n"
     ]
    }
   ],
   "source": [
    "# 使用Dataframe來計算最大年齡\n",
    "max_age = df[\"Age\"].max()\n",
    "\n",
    "print(max_age)"
   ]
  },
  {
   "cell_type": "code",
   "execution_count": 9,
   "id": "22bca822",
   "metadata": {},
   "outputs": [
    {
     "name": "stdout",
     "output_type": "stream",
     "text": [
      "58\n"
     ]
    }
   ],
   "source": [
    "# 或是使用Series來計算最大年齡\n",
    "max_age = ages.max()\n",
    "\n",
    "print(max_age)"
   ]
  },
  {
   "cell_type": "markdown",
   "id": "6922acf8",
   "metadata": {},
   "source": [
    "> <i class=\"fa fa-question-circle\" style=\"font-size: 22px;color:#DE3163;\"></i> 我對數據表中數值數據的一些基本統計信息感興趣\n",
    "\n",
    "> `describe()`方法提供了DataFrame中數值數據的快速概述。由於\"name\"和\"Sex\"列是文本數據，因此`describe()`方法預設不考慮這些數據的統計概述。"
   ]
  },
  {
   "cell_type": "code",
   "execution_count": 10,
   "id": "2c7f8549",
   "metadata": {},
   "outputs": [
    {
     "name": "stdout",
     "output_type": "stream",
     "text": [
      "             Age\n",
      "count   3.000000\n",
      "mean   38.333333\n",
      "std    18.230012\n",
      "min    22.000000\n",
      "25%    28.500000\n",
      "50%    35.000000\n",
      "75%    46.500000\n",
      "max    58.000000\n",
      "<class 'pandas.core.frame.DataFrame'>\n"
     ]
    }
   ],
   "source": [
    "#只對數值做動作\n",
    "df_desc = df.describe()\n",
    "\n",
    "print(df_desc)\n",
    "\n",
    "print(type(df_desc))"
   ]
  },
  {
   "cell_type": "markdown",
   "id": "442fb2b8",
   "metadata": {},
   "source": [
    "許多Pandas的操作都會返回一個`DataFrame`或`Series`物件。 `describe()`方法是返回`Series`物件的pandas操作的範例。"
   ]
  },
  {
   "cell_type": "markdown",
   "id": "a3a94005",
   "metadata": {},
   "source": [
    "## 如何讀取和寫入表格數據?\n",
    "\n",
    "![](images/02_io_readwrite.svg)"
   ]
  },
  {
   "cell_type": "markdown",
   "id": "11f1a81a",
   "metadata": {},
   "source": [
    "> <i class=\"fa fa-question-circle\" style=\"font-size: 22px;color:#DE3163;\"></i> 我想分析Titanic乘客數據，該數據是CSV格式的文件資料。\n",
    "\n",
    "> pandas提供了`read_csv()`函數，可將以csv文件存儲的數據讀取到pandas `DataFrame`中。pandas開箱即用地支持許多不同的文件格式或數據源(csv，excel，sql，json，parquet等)，每種格式都帶有前綴`read_*`。\n",
    "\n",
    "<table class=\"colwidths-given table\">\n",
    "    <colgroup>\n",
    "        <col style=\"width: 12%\" />\n",
    "        <col style=\"width: 40%\" />\n",
    "        <col style=\"width: 24%\" />\n",
    "        <col style=\"width: 24%\" />\n",
    "    </colgroup>\n",
    "    <thead>\n",
    "        <tr class=\"row-odd\"><th class=\"head\"><p>Format Type</p></th>\n",
    "            <th class=\"head\"><p>Data Description</p></th>\n",
    "            <th class=\"head\"><p>Reader</p></th>\n",
    "            <th class=\"head\"><p>Writer</p></th>\n",
    "        </tr>\n",
    "    </thead>\n",
    "    <tbody>\n",
    "        <tr class=\"row-even\"><td><p>text</p></td>\n",
    "            <td><p><a class=\"reference external\" href=\"https://en.wikipedia.org/wiki/Comma-separated_values\">CSV</a></p></td>\n",
    "            <td><p><span class=\"std std-ref\">read_csv()</span></p></td>\n",
    "            <td><p><span class=\"std std-ref\">to_csv()</span></p></td>\n",
    "        </tr>\n",
    "        <tr class=\"row-odd\"><td><p>text</p></td>\n",
    "            <td><p>Fixed-Width Text File</p></td>\n",
    "            <td><p><span class=\"std std-ref\">read_fwf()</span></p></td>\n",
    "            <td></td>\n",
    "        </tr>\n",
    "        <tr class=\"row-even\"><td><p>text</p></td>\n",
    "            <td><p><a class=\"reference external\" href=\"https://www.json.org/\">JSON</a></p></td>\n",
    "            <td><p><span class=\"std std-ref\">read_json()</span></p></td>\n",
    "            <td><p><span class=\"std std-ref\">to_json()</span></p></td>\n",
    "        </tr>\n",
    "        <tr class=\"row-odd\"><td><p>text</p></td>\n",
    "            <td><p><a class=\"reference external\" href=\"https://en.wikipedia.org/wiki/HTML\">HTML</a></p></td>\n",
    "            <td><p><span class=\"std std-ref\">read_html()</span></p></td>\n",
    "            <td><p><span class=\"std std-ref\">to_html()</span></p></td>\n",
    "        </tr>\n",
    "        <tr class=\"row-even\"><td><p>text</p></td>\n",
    "            <td><p>Local clipboard</p></td>\n",
    "            <td><p><span class=\"std std-ref\">read_clipboard()</span></p></td>\n",
    "            <td><p><span class=\"std std-ref\">to_clipboard()</span></p></td>\n",
    "        </tr>\n",
    "        <tr class=\"row-odd\"><td><p>binary</p></td>\n",
    "            <td><p><a class=\"reference external\" href=\"https://en.wikipedia.org/wiki/Microsoft_Excel\">MS Excel</a></p></td>\n",
    "            <td><p><span class=\"std std-ref\">read_excel()</span></p></td>\n",
    "            <td><p><span class=\"std std-ref\">to_excel()</span></p></td>\n",
    "        </tr>\n",
    "        <tr class=\"row-even\"><td><p>binary</p></td>\n",
    "            <td><p><a class=\"reference external\" href=\"http://www.opendocumentformat.org\">OpenDocument</a></p></td>\n",
    "            <td><p><span class=\"std std-ref\">read_excel()</span></p></td>\n",
    "            <td></td>\n",
    "        </tr>\n",
    "        <tr class=\"row-odd\"><td><p>binary</p></td>\n",
    "            <td><p><a class=\"reference external\" href=\"https://support.hdfgroup.org/HDF5/whatishdf5.html\">HDF5 Format</a></p></td>\n",
    "            <td><p><span class=\"std std-ref\">read_hdf()</span></p></td>\n",
    "            <td><p><span class=\"std std-ref\">to_hdf()</span></p></td>\n",
    "        </tr>\n",
    "        <tr class=\"row-even\"><td><p>binary</p></td>\n",
    "            <td><p><a class=\"reference external\" href=\"https://github.com/wesm/feather\">Feather Format</a></p></td>\n",
    "            <td><p><span class=\"std std-ref\">read_feather()</span></p></td>\n",
    "            <td><p><span class=\"std std-ref\">to_feather()</span></p></td>\n",
    "        </tr>\n",
    "        <tr class=\"row-odd\"><td><p>binary</p></td>\n",
    "            <td><p><a class=\"reference external\" href=\"https://parquet.apache.org/\">Parquet Format</a></p></td>\n",
    "            <td><p><span class=\"std std-ref\">read_parquet()</span></p></td>\n",
    "            <td><p><span class=\"std std-ref\">to_parquet()</span></p></td>\n",
    "        </tr>\n",
    "        <tr class=\"row-even\"><td><p>binary</p></td>\n",
    "            <td><p><a class=\"reference external\" href=\"https://orc.apache.org/\">ORC Format</a></p></td>\n",
    "            <td><p><span class=\"std std-ref\">read_orc()</span></p></td>\n",
    "            <td></td>\n",
    "        </tr>\n",
    "        <tr class=\"row-odd\"><td><p>binary</p></td>\n",
    "            <td><p><a class=\"reference external\" href=\"https://msgpack.org/index.html\">Msgpack</a></p></td>\n",
    "            <td><p><span class=\"std std-ref\">read_msgpack()</span></p></td>\n",
    "            <td><p><span class=\"std std-ref\">to_msgpack()</span></p></td>\n",
    "        </tr>\n",
    "        <tr class=\"row-even\"><td><p>binary</p></td>\n",
    "            <td><p><a class=\"reference external\" href=\"https://en.wikipedia.org/wiki/Stata\">Stata</a></p></td>\n",
    "            <td><p><span class=\"std std-ref\">read_stata()</span></p></td>\n",
    "            <td><p><span class=\"std std-ref\">to_stata()</span></p></td>\n",
    "        </tr>\n",
    "        <tr class=\"row-odd\"><td><p>binary</p></td>\n",
    "            <td><p><a class=\"reference external\" href=\"https://en.wikipedia.org/wiki/SAS_(software)\">SAS</a></p></td>\n",
    "            <td><p><span class=\"std std-ref\">read_sas()</span></p></td>\n",
    "            <td></td>\n",
    "        </tr>\n",
    "        <tr class=\"row-even\"><td><p>binary</p></td>\n",
    "            <td><p><a class=\"reference external\" href=\"https://en.wikipedia.org/wiki/SPSS\">SPSS</a></p></td>\n",
    "            <td><p><span class=\"std std-ref\">read_spss()</span></p></td>\n",
    "            <td></td>\n",
    "        </tr>\n",
    "        <tr class=\"row-odd\"><td><p>binary</p></td>\n",
    "            <td><p><a class=\"reference external\" href=\"https://docs.python.org/3/library/pickle.html\">Python Pickle Format</a></p></td>\n",
    "            <td><p><span class=\"std std-ref\">read_pickle()</span></p></td>\n",
    "            <td><p><span class=\"std std-ref\">to_pickle()</span></p></td>\n",
    "        </tr>\n",
    "        <tr class=\"row-even\"><td><p>SQL</p></td>\n",
    "            <td><p><a class=\"reference external\" href=\"https://en.wikipedia.org/wiki/SQL\">SQL</a></p></td>\n",
    "            <td><p><span class=\"std std-ref\">read_sql()</span></p></td>\n",
    "            <td><p><span class=\"std std-ref\">to_sql()</span></p></td>\n",
    "        </tr>\n",
    "        <tr class=\"row-odd\"><td><p>SQL</p></td>\n",
    "            <td><p><a class=\"reference external\" href=\"https://en.wikipedia.org/wiki/BigQuery\">Google BigQuery</a></p></td>\n",
    "            <td><p><span class=\"std std-ref\">read_gbq()</span></p></td>\n",
    "            <td><p><span class=\"std std-ref\">to_gbq()</span></p></td>\n",
    "        </tr>\n",
    "    </tbody>\n",
    "</table>"
   ]
  },
  {
   "cell_type": "code",
   "execution_count": 12,
   "id": "4644f293",
   "metadata": {},
   "outputs": [
    {
     "name": "stdout",
     "output_type": "stream",
     "text": [
      "       PassengerId    Survived      Pclass         Age       SibSp  \\\n",
      "count   891.000000  891.000000  891.000000  714.000000  891.000000   \n",
      "mean    446.000000    0.383838    2.308642   29.699118    0.523008   \n",
      "std     257.353842    0.486592    0.836071   14.526497    1.102743   \n",
      "min       1.000000    0.000000    1.000000    0.420000    0.000000   \n",
      "25%     223.500000    0.000000    2.000000   20.125000    0.000000   \n",
      "50%     446.000000    0.000000    3.000000   28.000000    0.000000   \n",
      "75%     668.500000    1.000000    3.000000   38.000000    1.000000   \n",
      "max     891.000000    1.000000    3.000000   80.000000    8.000000   \n",
      "\n",
      "            Parch        Fare  \n",
      "count  891.000000  891.000000  \n",
      "mean     0.381594   32.204208  \n",
      "std      0.806057   49.693429  \n",
      "min      0.000000    0.000000  \n",
      "25%      0.000000    7.910400  \n",
      "50%      0.000000   14.454200  \n",
      "75%      0.000000   31.000000  \n",
      "max      6.000000  512.329200  \n",
      "<class 'pandas.core.frame.DataFrame'>\n",
      "RangeIndex: 891 entries, 0 to 890\n",
      "Data columns (total 12 columns):\n",
      " #   Column       Non-Null Count  Dtype  \n",
      "---  ------       --------------  -----  \n",
      " 0   PassengerId  891 non-null    int64  \n",
      " 1   Survived     891 non-null    int64  \n",
      " 2   Pclass       891 non-null    int64  \n",
      " 3   Name         891 non-null    object \n",
      " 4   Sex          891 non-null    object \n",
      " 5   Age          714 non-null    float64\n",
      " 6   SibSp        891 non-null    int64  \n",
      " 7   Parch        891 non-null    int64  \n",
      " 8   Ticket       891 non-null    object \n",
      " 9   Fare         891 non-null    float64\n",
      " 10  Cabin        204 non-null    object \n",
      " 11  Embarked     889 non-null    object \n",
      "dtypes: float64(2), int64(5), object(5)\n",
      "memory usage: 83.7+ KB\n",
      "None\n"
     ]
    }
   ],
   "source": [
    "df_titanic = pd.read_csv(\"data/titanic.csv\")\n",
    "print(df_titanic.describe())\n",
    "print(df_titanic.info())"
   ]
  },
  {
   "cell_type": "markdown",
   "id": "61e4ed33",
   "metadata": {},
   "source": [
    "> <i class=\"fa fa-question-circle\" style=\"font-size: 22px;color:#DE3163;\"></i> 我想查看DataFrame的前8行。\n",
    "\n",
    "> 要查看DataFrame的前N行，請使用`head()`方法以及所需的行數（在本例中為8）作為參數。"
   ]
  },
  {
   "cell_type": "code",
   "execution_count": 13,
   "id": "ad0679a0",
   "metadata": {},
   "outputs": [
    {
     "name": "stdout",
     "output_type": "stream",
     "text": [
      "   PassengerId  Survived  Pclass  \\\n",
      "0            1         0       3   \n",
      "1            2         1       1   \n",
      "2            3         1       3   \n",
      "3            4         1       1   \n",
      "4            5         0       3   \n",
      "5            6         0       3   \n",
      "6            7         0       1   \n",
      "7            8         0       3   \n",
      "\n",
      "                                                Name     Sex   Age  SibSp  \\\n",
      "0                            Braund, Mr. Owen Harris    male  22.0      1   \n",
      "1  Cumings, Mrs. John Bradley (Florence Briggs Th...  female  38.0      1   \n",
      "2                             Heikkinen, Miss. Laina  female  26.0      0   \n",
      "3       Futrelle, Mrs. Jacques Heath (Lily May Peel)  female  35.0      1   \n",
      "4                           Allen, Mr. William Henry    male  35.0      0   \n",
      "5                                   Moran, Mr. James    male   NaN      0   \n",
      "6                            McCarthy, Mr. Timothy J    male  54.0      0   \n",
      "7                     Palsson, Master. Gosta Leonard    male   2.0      3   \n",
      "\n",
      "   Parch            Ticket     Fare Cabin Embarked  \n",
      "0      0         A/5 21171   7.2500   NaN        S  \n",
      "1      0          PC 17599  71.2833   C85        C  \n",
      "2      0  STON/O2. 3101282   7.9250   NaN        S  \n",
      "3      0            113803  53.1000  C123        S  \n",
      "4      0            373450   8.0500   NaN        S  \n",
      "5      0            330877   8.4583   NaN        Q  \n",
      "6      0             17463  51.8625   E46        S  \n",
      "7      1            349909  21.0750   NaN        S  \n",
      "<class 'pandas.core.frame.DataFrame'>\n"
     ]
    }
   ],
   "source": [
    "df_titanic_head = df_titanic.head(8)\n",
    "\n",
    "print(df_titanic_head)\n",
    "\n",
    "print(type(df_titanic_head))"
   ]
  },
  {
   "cell_type": "markdown",
   "id": "36653c17",
   "metadata": {},
   "source": [
    "### Pandas支援的數據類型\n",
    "\n",
    "可以通過查看pandas `dtypes`屬性來檢查pandas如何解釋每種列數據類型："
   ]
  },
  {
   "cell_type": "code",
   "execution_count": 14,
   "id": "2ba6d91f",
   "metadata": {},
   "outputs": [
    {
     "name": "stdout",
     "output_type": "stream",
     "text": [
      "PassengerId      int64\n",
      "Survived         int64\n",
      "Pclass           int64\n",
      "Name            object\n",
      "Sex             object\n",
      "Age            float64\n",
      "SibSp            int64\n",
      "Parch            int64\n",
      "Ticket          object\n",
      "Fare           float64\n",
      "Cabin           object\n",
      "Embarked        object\n",
      "dtype: object\n",
      "<class 'pandas.core.series.Series'>\n"
     ]
    }
   ],
   "source": [
    "df_column_dtypes = df_titanic.dtypes\n",
    "\n",
    "print(df_column_dtypes)\n",
    "\n",
    "print(type(df_column_dtypes))"
   ]
  },
  {
   "cell_type": "markdown",
   "id": "75d906b5",
   "metadata": {},
   "source": [
    "對於每個列，都列出了使用的數據類型。此DataFrame中的數據類型是整數(int64)，浮點數(float64)和字串(object)。"
   ]
  },
  {
   "cell_type": "markdown",
   "id": "ff370986",
   "metadata": {},
   "source": [
    "Pandas dtype|Python type|NumPy type|Usage\n",
    ":-----------|:----------|:---------|:----\n",
    "object\t|str or mixed\t|string_, unicode_, mixed types\t|ext or mixed numeric and non-numeric values\n",
    "int64\t|int\t|int_, int8, int16, int32, int64, uint8, uint16, uint32, uint64\t|Integer numbers\n",
    "float64\t|float\t|float_, float16, float32, float64\t|Floating point numbers\n",
    "bool\t|bool\t|bool_\t|True/False values\n",
    "datetime64\t|datetime\t|datetime64[ns]\t|Date and time values\n",
    "timedelta[ns]\t|NA\t|NA\t|Differences between two datetimes\n",
    "category\t|NA\t|NA\t|Finite list of text values"
   ]
  },
  {
   "cell_type": "markdown",
   "id": "4f4002d9",
   "metadata": {},
   "source": [
    "### 將dataframe拋轉成Excel文件檔案"
   ]
  },
  {
   "cell_type": "markdown",
   "id": "bd8abb35",
   "metadata": {},
   "source": [
    "> <i class=\"fa fa-question-circle\" style=\"font-size: 22px;color:#DE3163;\"></i> 我的同事要求我提供Excel檔案格式的Titanic數據。\n",
    "\n",
    "> `read_*`函數用於將數據讀取進Pandas，而`to_*`方法用於存儲數據。 `to_excel()`方法將數據存儲為excel文件。在此處的範例中，sheet_name被命名為**passengers**，而不是預設的**Sheet1**。通過設置`index = False`，dataframe的行索引標籤被不會保存在Excel資料檔中。"
   ]
  },
  {
   "cell_type": "code",
   "execution_count": 15,
   "id": "fe6d637c",
   "metadata": {},
   "outputs": [],
   "source": [
    "df_titanic.to_excel('titanic.xlsx', sheet_name='passengers', index=False)"
   ]
  },
  {
   "cell_type": "markdown",
   "id": "f4508865",
   "metadata": {},
   "source": [
    "### 讀取Excel文件檔案成為dataframe物件\n",
    "\n",
    "Pandas提供很方便的讀取函數`read_excel()`來將Excel檔案裡的數據加載到DataFrame中："
   ]
  },
  {
   "cell_type": "code",
   "execution_count": 18,
   "id": "f5605c44",
   "metadata": {},
   "outputs": [
    {
     "name": "stdout",
     "output_type": "stream",
     "text": [
      "   PassengerId  Survived  Pclass  \\\n",
      "0            1         0       3   \n",
      "1            2         1       1   \n",
      "2            3         1       3   \n",
      "3            4         1       1   \n",
      "4            5         0       3   \n",
      "\n",
      "                                                Name     Sex   Age  SibSp  \\\n",
      "0                            Braund, Mr. Owen Harris    male  22.0      1   \n",
      "1  Cumings, Mrs. John Bradley (Florence Briggs Th...  female  38.0      1   \n",
      "2                             Heikkinen, Miss. Laina  female  26.0      0   \n",
      "3       Futrelle, Mrs. Jacques Heath (Lily May Peel)  female  35.0      1   \n",
      "4                           Allen, Mr. William Henry    male  35.0      0   \n",
      "\n",
      "   Parch            Ticket     Fare Cabin Embarked  \n",
      "0      0         A/5 21171   7.2500   NaN        S  \n",
      "1      0          PC 17599  71.2833   C85        C  \n",
      "2      0  STON/O2. 3101282   7.9250   NaN        S  \n",
      "3      0            113803  53.1000  C123        S  \n",
      "4      0            373450   8.0500   NaN        S  \n"
     ]
    }
   ],
   "source": [
    "df_titanic_xls = pd.read_excel('titanic.xlsx', sheet_name='passengers')\n",
    "\n",
    "df_titanic_xls_head = df_titanic_xls.head()\n",
    "\n",
    "print(df_titanic_xls_head)"
   ]
  },
  {
   "cell_type": "markdown",
   "id": "66eca5fd",
   "metadata": {},
   "source": [
    "> <i class=\"fa fa-question-circle\" style=\"font-size: 22px;color:#DE3163;\"></i> 我對DataFrame的技術摘要感興趣\n",
    "\n",
    ">`info()`方法提供有關DataFrame的技術信息，因此讓我們更詳細地說明這個方法的輸出：\n",
    ">* 它表示這個物件的確是一個`DataFrame`物件。\n",
    ">* 這個DataFrame裡頭有891筆資料。\n",
    ">* 每一筆資料在DataFrame裡都會給予一個row label (是DataFrame內部的index) 而這個值是從0到890。\n",
    ">* 這個table有12個columns。大多數的columns裡都有值 (全部891值都是non-null)。然而有一些columns有一些缺失值（missing values）所以它有值的的count會少於891個。\n",
    ">* 欄位Name, Sex, Cabin與Embarked是文字型類的資料 (strings, 在DatataFrame中以object來儲存)。其它的欄位是數字類型的資料, 有些是整數 (aka integer) 及有些是浮點數 (aka float)。\n",
    ">* 總結這個DataFrame物件會用到的資料型別(dtypes)的個數。\n",
    ">* 還提供了這個DataFrame物件會使用到電腦記憶體(RAM)大概數量。"
   ]
  },
  {
   "cell_type": "code",
   "execution_count": 19,
   "id": "bae4836d",
   "metadata": {},
   "outputs": [
    {
     "name": "stdout",
     "output_type": "stream",
     "text": [
      "<class 'pandas.core.frame.DataFrame'>\n",
      "RangeIndex: 891 entries, 0 to 890\n",
      "Data columns (total 12 columns):\n",
      " #   Column       Non-Null Count  Dtype  \n",
      "---  ------       --------------  -----  \n",
      " 0   PassengerId  891 non-null    int64  \n",
      " 1   Survived     891 non-null    int64  \n",
      " 2   Pclass       891 non-null    int64  \n",
      " 3   Name         891 non-null    object \n",
      " 4   Sex          891 non-null    object \n",
      " 5   Age          714 non-null    float64\n",
      " 6   SibSp        891 non-null    int64  \n",
      " 7   Parch        891 non-null    int64  \n",
      " 8   Ticket       891 non-null    object \n",
      " 9   Fare         891 non-null    float64\n",
      " 10  Cabin        204 non-null    object \n",
      " 11  Embarked     889 non-null    object \n",
      "dtypes: float64(2), int64(5), object(5)\n",
      "memory usage: 83.7+ KB\n",
      "None\n"
     ]
    }
   ],
   "source": [
    "df_titanic_info = df_titanic.info()\n",
    "\n",
    "print(df_titanic_info)"
   ]
  },
  {
   "cell_type": "markdown",
   "id": "6655d2e8",
   "metadata": {},
   "source": [
    "## 如何讀取DataFrame中部份的資料?"
   ]
  },
  {
   "cell_type": "markdown",
   "id": "de54c4cf",
   "metadata": {},
   "source": [
    "### 如何讀取DataFrame中特定的列資料?\n",
    "\n",
    "![](images/03_subset_columns.svg)"
   ]
  },
  {
   "cell_type": "markdown",
   "id": "7b6e77fd",
   "metadata": {},
   "source": [
    "> <i class=\"fa fa-question-circle\" style=\"font-size: 22px;color:#DE3163;\"></i> 我對Titanic乘客的年齡感興趣。\n",
    "\n",
    "> 要選擇單個column，請使用方括號`[]`和感興趣的列的列名。"
   ]
  },
  {
   "cell_type": "code",
   "execution_count": 20,
   "id": "24ac8dff",
   "metadata": {},
   "outputs": [
    {
     "name": "stdout",
     "output_type": "stream",
     "text": [
      "0    22.0\n",
      "1    38.0\n",
      "2    26.0\n",
      "3    35.0\n",
      "4    35.0\n",
      "Name: Age, dtype: float64\n",
      "<class 'pandas.core.series.Series'>\n"
     ]
    }
   ],
   "source": [
    "ages = df_titanic[\"Age\"]\n",
    "\n",
    "print(ages.head())\n",
    "\n",
    "print(type(ages))"
   ]
  },
  {
   "cell_type": "markdown",
   "id": "dfb3f623",
   "metadata": {},
   "source": [
    "DataFrame中的每一列都是一個Series物件。在範例中我們通過檢查輸出的類型來驗證這一點。\n",
    "同時我們也可以看一個這個物件的shape:"
   ]
  },
  {
   "cell_type": "code",
   "execution_count": 21,
   "id": "fce7036e",
   "metadata": {},
   "outputs": [
    {
     "name": "stdout",
     "output_type": "stream",
     "text": [
      "(891,)\n",
      "<class 'tuple'>\n"
     ]
    }
   ],
   "source": [
    "ages_shape = df_titanic[\"Age\"].shape\n",
    "\n",
    "print(ages_shape)\n",
    "\n",
    "print(type(ages_shape))"
   ]
  },
  {
   "cell_type": "markdown",
   "id": "38fb1d9b",
   "metadata": {},
   "source": [
    "**DataFrame.shape**是pandas Series和DataFrame物件的屬性, 該屬性包含**筆數**和**列數**： (nrows, ncolumns)。pandas Series物件是一維的，僅返回筆數。"
   ]
  },
  {
   "cell_type": "markdown",
   "id": "29a6eeea",
   "metadata": {},
   "source": [
    "> <i class=\"fa fa-question-circle\" style=\"font-size: 22px;color:#DE3163;\"></i> 我對Titanic乘客的年齡與性別感興趣。\n",
    "\n",
    "> 要選擇多列，請在選擇括號[]中使用列名list。"
   ]
  },
  {
   "cell_type": "code",
   "execution_count": 22,
   "id": "c5b31dbf",
   "metadata": {},
   "outputs": [
    {
     "name": "stdout",
     "output_type": "stream",
     "text": [
      "    Age     Sex\n",
      "0  22.0    male\n",
      "1  38.0  female\n",
      "2  26.0  female\n",
      "3  35.0  female\n",
      "4  35.0    male\n"
     ]
    }
   ],
   "source": [
    "age_sex = df_titanic[[\"Age\", \"Sex\"]]\n",
    "\n",
    "print(age_sex.head())"
   ]
  },
  {
   "cell_type": "markdown",
   "id": "271a7f2a",
   "metadata": {},
   "source": [
    "DataFrame物件多個列選取返回的數據類型也是pandas DataFrame："
   ]
  },
  {
   "cell_type": "code",
   "execution_count": 23,
   "id": "007a7009",
   "metadata": {},
   "outputs": [
    {
     "name": "stdout",
     "output_type": "stream",
     "text": [
      "<class 'pandas.core.frame.DataFrame'>\n",
      "(891, 2)\n"
     ]
    }
   ],
   "source": [
    "print(type(age_sex))\n",
    "\n",
    "print(age_sex.shape)"
   ]
  },
  {
   "cell_type": "markdown",
   "id": "64a71080",
   "metadata": {},
   "source": [
    "選擇返回的DataFrame具有891筆和2列。記住，DataFrame是**二維**的。"
   ]
  },
  {
   "cell_type": "markdown",
   "id": "b49d72ae",
   "metadata": {},
   "source": [
    "### 如何過濾出DataFrame中特定筆數的資料?\n",
    "\n",
    "![](images/03_subset_rows.svg)"
   ]
  },
  {
   "cell_type": "markdown",
   "id": "3407a760",
   "metadata": {},
   "source": [
    "> <i class=\"fa fa-question-circle\" style=\"font-size: 22px;color:#DE3163;\"></i> 我對Titanic乘客的年齡大於35歲的感興趣。\n",
    "\n",
    "> Dataframe的loc屬性可以用來過濾與選擇資料, 第一個部份主要是條件而第二個部份是要output的columns資料。"
   ]
  },
  {
   "cell_type": "code",
   "execution_count": 103,
   "id": "27f1e4df",
   "metadata": {},
   "outputs": [
    {
     "name": "stdout",
     "output_type": "stream",
     "text": [
      "1     Cumings, Mrs. John Bradley (Florence Briggs Th...\n",
      "6                               McCarthy, Mr. Timothy J\n",
      "11                             Bonnell, Miss. Elizabeth\n",
      "13                          Andersson, Mr. Anders Johan\n",
      "15                     Hewlett, Mrs. (Mary D Kingcome) \n",
      "Name: Name, dtype: object\n",
      "<class 'pandas.core.series.Series'>\n"
     ]
    }
   ],
   "source": [
    "adult_names = df_titanic.loc[df_titanic[\"Age\"] > 35, \"Name\"]\n",
    "\n",
    "print(adult_names.head())\n",
    "\n",
    "print(type(adult_names))"
   ]
  },
  {
   "cell_type": "markdown",
   "id": "56a3ff25",
   "metadata": {},
   "source": [
    "> <i class=\"fa fa-question-circle\" style=\"font-size: 22px;color:#DE3163;\"></i> 我對Titanic資料集中第10 - 25筆的3 - 5列感興趣。\n",
    "\n",
    "> 如果對於Dataframe中某些行和/或列特別感興趣，請使用iloc運算符。"
   ]
  },
  {
   "cell_type": "code",
   "execution_count": 27,
   "id": "4d150328",
   "metadata": {},
   "outputs": [
    {
     "name": "stdout",
     "output_type": "stream",
     "text": [
      "    Pclass                                 Name     Sex\n",
      "9        2  Nasser, Mrs. Nicholas (Adele Achem)  female\n",
      "10       3      Sandstrom, Miss. Marguerite Rut  female\n",
      "11       1             Bonnell, Miss. Elizabeth  female\n",
      "12       3       Saundercock, Mr. William Henry    male\n",
      "13       3          Andersson, Mr. Anders Johan    male\n",
      "<class 'pandas.core.frame.DataFrame'>\n"
     ]
    }
   ],
   "source": [
    "subset = df_titanic.iloc[9:25, 2:5]\n",
    "\n",
    "print(subset.head())\n",
    "\n",
    "print(type(subset))"
   ]
  },
  {
   "cell_type": "markdown",
   "id": "71b7a50d",
   "metadata": {},
   "source": [
    "## 如何在Pandas中創建圖表?\n",
    "\n",
    "![](images/04_plot_overview.svg)"
   ]
  },
  {
   "cell_type": "code",
   "execution_count": 29,
   "id": "2580dc21",
   "metadata": {},
   "outputs": [],
   "source": [
    "import matplotlib.pyplot as plt"
   ]
  },
  {
   "cell_type": "markdown",
   "id": "68f912a0",
   "metadata": {},
   "source": [
    "在本教程中，將使用一個有關NO2的空氣質量公開數據。 `air_quality_no2.csv`數據集為分別位於巴黎，安特衛普和倫敦的測量站FR04014，BETR801和倫敦威斯敏斯特提供NO2值。\n",
    "\n",
    "> **NO2(二氧化氮)**: 二氧化氮在臭氧的形成過程中起著重要作用。人為產生的二氧化氮主要來自高溫燃燒過程的釋放，比如汽車/機車的排氣、鍋爐廢氣的排放等等。二氧化氮還是酸雨的成因之一。\n",
    "\n",
    "> 注意: 在這個資料集中我們會使用**時間**做為DataFrame物件的內部index列。\n",
    "\n",
    "> 使用`read_csv()`函數的`index_col`和`parse_dates`參數將第一（第0）列定義為DataFrame的索引，並將該列中的日期分別轉換為Timestamp對象。"
   ]
  },
  {
   "cell_type": "code",
   "execution_count": 30,
   "id": "a8217af0",
   "metadata": {},
   "outputs": [
    {
     "name": "stdout",
     "output_type": "stream",
     "text": [
      "<class 'pandas.core.frame.DataFrame'>\n",
      "DatetimeIndex: 1035 entries, 2019-05-07 02:00:00 to 2019-06-21 02:00:00\n",
      "Data columns (total 3 columns):\n",
      " #   Column           Non-Null Count  Dtype  \n",
      "---  ------           --------------  -----  \n",
      " 0   station_antwerp  95 non-null     float64\n",
      " 1   station_paris    1004 non-null   float64\n",
      " 2   station_london   969 non-null    float64\n",
      "dtypes: float64(3)\n",
      "memory usage: 32.3 KB\n",
      "None\n",
      "                     station_antwerp  station_paris  station_london\n",
      "datetime                                                           \n",
      "2019-05-07 02:00:00              NaN            NaN            23.0\n",
      "2019-05-07 03:00:00             50.5           25.0            19.0\n",
      "2019-05-07 04:00:00             45.0           27.7            19.0\n",
      "2019-05-07 05:00:00              NaN           50.4            16.0\n",
      "2019-05-07 06:00:00              NaN           61.9             NaN\n"
     ]
    }
   ],
   "source": [
    "air_quality = pd.read_csv(\"data/air_quality_no2.csv\", index_col=0, parse_dates=True)\n",
    "\n",
    "print(air_quality.info())\n",
    "\n",
    "print(air_quality.head())"
   ]
  },
  {
   "cell_type": "markdown",
   "id": "8da5b5d2",
   "metadata": {},
   "source": [
    "> <i class=\"fa fa-question-circle\" style=\"font-size: 22px;color:#DE3163;\"></i> 我想對數據進行快速的視覺檢查。\n",
    "\n",
    "> 借助DataFrame，pandas預設情況下為每個包含數字column創建一個折線圖。"
   ]
  },
  {
   "cell_type": "code",
   "execution_count": 31,
   "id": "fe65d7e0",
   "metadata": {},
   "outputs": [
    {
     "data": {
      "text/plain": [
       "<AxesSubplot:xlabel='datetime'>"
      ]
     },
     "execution_count": 31,
     "metadata": {},
     "output_type": "execute_result"
    },
    {
     "data": {
      "image/png": "[encoded data removed]",
      "text/plain": [
       "<Figure size 432x288 with 1 Axes>"
      ]
     },
     "metadata": {
      "needs_background": "light"
     },
     "output_type": "display_data"
    }
   ],
   "source": [
    "air_quality.plot()"
   ]
  },
  {
   "cell_type": "markdown",
   "id": "a1b3059e",
   "metadata": {},
   "source": [
    "> <i class=\"fa fa-question-circle\" style=\"font-size: 22px;color:#DE3163;\"></i> 我只想使用來自Paris的數據列來繪製圖表。\n",
    "\n",
    "> 要繪製特定列，請結合使用DataFrame來選擇Column的方法和`plot()`方法。因為`plot()`方法可在`Series`和`DataFrame`上使用。"
   ]
  },
  {
   "cell_type": "code",
   "execution_count": 32,
   "id": "faf29e4d",
   "metadata": {},
   "outputs": [
    {
     "data": {
      "text/plain": [
       "<AxesSubplot:xlabel='datetime'>"
      ]
     },
     "execution_count": 32,
     "metadata": {},
     "output_type": "execute_result"
    },
    {
     "data": {
      "image/png": "[encoded data removed]",
      "text/plain": [
       "<Figure size 432x288 with 1 Axes>"
      ]
     },
     "metadata": {
      "needs_background": "light"
     },
     "output_type": "display_data"
    }
   ],
   "source": [
    "air_quality[\"station_paris\"].plot()"
   ]
  },
  {
   "cell_type": "markdown",
   "id": "b885923a",
   "metadata": {},
   "source": [
    "> <i class=\"fa fa-question-circle\" style=\"font-size: 22px;color:#DE3163;\"></i> 我想在視覺上比較London和Paris測得的N02值。"
   ]
  },
  {
   "cell_type": "code",
   "execution_count": 33,
   "id": "01f01ebf",
   "metadata": {},
   "outputs": [
    {
     "data": {
      "text/plain": [
       "<AxesSubplot:xlabel='station_london', ylabel='station_paris'>"
      ]
     },
     "execution_count": 33,
     "metadata": {},
     "output_type": "execute_result"
    },
    {
     "data": {
      "image/png": "[encoded data removed]",
      "text/plain": [
       "<Figure size 432x288 with 1 Axes>"
      ]
     },
     "metadata": {
      "needs_background": "light"
     },
     "output_type": "display_data"
    }
   ],
   "source": [
    "air_quality.plot.scatter(x=\"station_london\", y=\"station_paris\", alpha=0.5)"
   ]
  },
  {
   "cell_type": "markdown",
   "id": "5aada371",
   "metadata": {},
   "source": [
    "使用繪圖功能時，除了預設的線圖外，還有許多方法可用於繪製數據。\n",
    "* area\n",
    "* bar\n",
    "* barh\n",
    "* box\n",
    "* density\n",
    "* hexbin\n",
    "* hist\n",
    "* kde\n",
    "* line\n",
    "* pie\n",
    "* scatter\n",
    "\n",
    "詳細的用法, 請參考: [Pandas Visualization](https://pandas.pydata.org/docs/user_guide/visualization.html)"
   ]
  },
  {
   "cell_type": "markdown",
   "id": "0c2a2de1",
   "metadata": {},
   "source": [
    "圖表選項之一是`DataFrame.plot.box()`，它引用一個箱線圖。 Box方法適用於空氣質量範例數據："
   ]
  },
  {
   "cell_type": "code",
   "execution_count": 34,
   "id": "c6c8cd6b",
   "metadata": {},
   "outputs": [
    {
     "data": {
      "text/plain": [
       "<AxesSubplot:>"
      ]
     },
     "execution_count": 34,
     "metadata": {},
     "output_type": "execute_result"
    },
    {
     "data": {
      "image/png": "[encoded data removed]",
      "text/plain": [
       "<Figure size 432x288 with 1 Axes>"
      ]
     },
     "metadata": {
      "needs_background": "light"
     },
     "output_type": "display_data"
    }
   ],
   "source": [
    "air_quality.plot.box()"
   ]
  },
  {
   "cell_type": "markdown",
   "id": "10899c33",
   "metadata": {},
   "source": [
    "> <i class=\"fa fa-question-circle\" style=\"font-size: 22px;color:#DE3163;\"></i> 我希望每個數據列都在一個單獨的圖表。"
   ]
  },
  {
   "cell_type": "code",
   "execution_count": 35,
   "id": "551c6a46",
   "metadata": {},
   "outputs": [
    {
     "data": {
      "text/plain": [
       "array([<AxesSubplot:xlabel='datetime'>, <AxesSubplot:xlabel='datetime'>,\n",
       "       <AxesSubplot:xlabel='datetime'>], dtype=object)"
      ]
     },
     "execution_count": 35,
     "metadata": {},
     "output_type": "execute_result"
    },
    {
     "data": {
      "image/png": "[encoded data removed]",
      "text/plain": [
       "<Figure size 864x288 with 3 Axes>"
      ]
     },
     "metadata": {
      "needs_background": "light"
     },
     "output_type": "display_data"
    }
   ],
   "source": [
    "air_quality.plot.area(figsize=(12, 4), subplots=True)"
   ]
  },
  {
   "cell_type": "markdown",
   "id": "8b46bb00",
   "metadata": {},
   "source": [
    "## 如何從現有數據列創建衍生的新數據列?\n",
    "\n",
    "![](images/05_newcolumn_1.svg)"
   ]
  },
  {
   "cell_type": "markdown",
   "id": "f6336498",
   "metadata": {},
   "source": [
    "> <i class=\"fa fa-question-circle\" style=\"font-size: 22px;color:#DE3163;\"></i> 我想以mg/m^3(毫克/立方公尺)來表示倫敦車站的NO2濃度\n",
    "\n",
    "> （如果我們假設溫度為攝氏25度，壓力為1013 hPa，則轉換係數為1.882）"
   ]
  },
  {
   "cell_type": "code",
   "execution_count": 36,
   "id": "3a4964aa",
   "metadata": {},
   "outputs": [
    {
     "name": "stdout",
     "output_type": "stream",
     "text": [
      "<class 'pandas.core.frame.DataFrame'>\n",
      "DatetimeIndex: 1035 entries, 2019-05-07 02:00:00 to 2019-06-21 02:00:00\n",
      "Data columns (total 4 columns):\n",
      " #   Column              Non-Null Count  Dtype  \n",
      "---  ------              --------------  -----  \n",
      " 0   station_antwerp     95 non-null     float64\n",
      " 1   station_paris       1004 non-null   float64\n",
      " 2   station_london      969 non-null    float64\n",
      " 3   lodon_mg_per_cubic  969 non-null    float64\n",
      "dtypes: float64(4)\n",
      "memory usage: 40.4 KB\n",
      "None\n",
      "                     station_antwerp  station_paris  station_london  \\\n",
      "datetime                                                              \n",
      "2019-05-07 02:00:00              NaN            NaN            23.0   \n",
      "2019-05-07 03:00:00             50.5           25.0            19.0   \n",
      "2019-05-07 04:00:00             45.0           27.7            19.0   \n",
      "2019-05-07 05:00:00              NaN           50.4            16.0   \n",
      "2019-05-07 06:00:00              NaN           61.9             NaN   \n",
      "\n",
      "                     lodon_mg_per_cubic  \n",
      "datetime                                 \n",
      "2019-05-07 02:00:00              43.286  \n",
      "2019-05-07 03:00:00              35.758  \n",
      "2019-05-07 04:00:00              35.758  \n",
      "2019-05-07 05:00:00              30.112  \n",
      "2019-05-07 06:00:00                 NaN  \n"
     ]
    }
   ],
   "source": [
    "#要創建新資料列，在DataFrame使用帶有新數據列名稱的[]括號\n",
    "air_quality[\"lodon_mg_per_cubic\"] = air_quality[\"station_london\"]*1.882\n",
    "\n",
    "print(air_quality.info())\n",
    "\n",
    "print(air_quality.head())"
   ]
  },
  {
   "cell_type": "markdown",
   "id": "16564308",
   "metadata": {},
   "source": [
    "提示: \n",
    "* 要創建新資料列，在DataFrame使用帶有新數據列名稱的`[]`括號。\n",
    "* 值的計算是按`element_wise`進行的。這意味著給定列中的所有值都將立即乘以值`1.882`。無需使用looping來迭代每一行！"
   ]
  },
  {
   "cell_type": "markdown",
   "id": "8196ce9b",
   "metadata": {},
   "source": [
    "> <i class=\"fa fa-question-circle\" style=\"font-size: 22px;color:#DE3163;\"></i> 我想檢查Paris與Antwerp兩個觀測站值的比率並將結果保存在新數據列中"
   ]
  },
  {
   "cell_type": "code",
   "execution_count": 37,
   "id": "8027e640",
   "metadata": {},
   "outputs": [
    {
     "name": "stdout",
     "output_type": "stream",
     "text": [
      "<class 'pandas.core.frame.DataFrame'>\n",
      "DatetimeIndex: 1035 entries, 2019-05-07 02:00:00 to 2019-06-21 02:00:00\n",
      "Data columns (total 5 columns):\n",
      " #   Column               Non-Null Count  Dtype  \n",
      "---  ------               --------------  -----  \n",
      " 0   station_antwerp      95 non-null     float64\n",
      " 1   station_paris        1004 non-null   float64\n",
      " 2   station_london       969 non-null    float64\n",
      " 3   lodon_mg_per_cubic   969 non-null    float64\n",
      " 4   ratio_paris_antwerp  95 non-null     float64\n",
      "dtypes: float64(5)\n",
      "memory usage: 48.5 KB\n",
      "None\n",
      "                     station_antwerp  station_paris  station_london  \\\n",
      "datetime                                                              \n",
      "2019-05-07 02:00:00              NaN            NaN            23.0   \n",
      "2019-05-07 03:00:00             50.5           25.0            19.0   \n",
      "2019-05-07 04:00:00             45.0           27.7            19.0   \n",
      "2019-05-07 05:00:00              NaN           50.4            16.0   \n",
      "2019-05-07 06:00:00              NaN           61.9             NaN   \n",
      "\n",
      "                     lodon_mg_per_cubic  ratio_paris_antwerp  \n",
      "datetime                                                      \n",
      "2019-05-07 02:00:00              43.286                  NaN  \n",
      "2019-05-07 03:00:00              35.758             0.495050  \n",
      "2019-05-07 04:00:00              35.758             0.615556  \n",
      "2019-05-07 05:00:00              30.112                  NaN  \n",
      "2019-05-07 06:00:00                 NaN                  NaN  \n"
     ]
    }
   ],
   "source": [
    "air_quality[\"ratio_paris_antwerp\"] = air_quality[\"station_paris\"] / air_quality[\"station_antwerp\"]\n",
    "\n",
    "print(air_quality.info())\n",
    "\n",
    "print(air_quality.head())"
   ]
  },
  {
   "cell_type": "markdown",
   "id": "ab63c728",
   "metadata": {},
   "source": [
    "> <i class=\"fa fa-question-circle\" style=\"font-size: 22px;color:#DE3163;\"></i> 我想將數據列重新命名\n",
    "\n",
    "> `rename()`函數可用於row標籤和column標籤。參數是提供一個dict，其中包含鍵，當前名稱和值，以及新名稱，以更新相應的名稱。"
   ]
  },
  {
   "cell_type": "code",
   "execution_count": 38,
   "id": "6ca1b32e",
   "metadata": {},
   "outputs": [
    {
     "name": "stdout",
     "output_type": "stream",
     "text": [
      "<class 'pandas.core.frame.DataFrame'>\n",
      "DatetimeIndex: 1035 entries, 2019-05-07 02:00:00 to 2019-06-21 02:00:00\n",
      "Data columns (total 5 columns):\n",
      " #   Column               Non-Null Count  Dtype  \n",
      "---  ------               --------------  -----  \n",
      " 0   BETR801              95 non-null     float64\n",
      " 1   FR04014              1004 non-null   float64\n",
      " 2   London Westminster   969 non-null    float64\n",
      " 3   lodon_mg_per_cubic   969 non-null    float64\n",
      " 4   ratio_paris_antwerp  95 non-null     float64\n",
      "dtypes: float64(5)\n",
      "memory usage: 48.5 KB\n",
      "None\n",
      "                     BETR801  FR04014  London Westminster  lodon_mg_per_cubic  \\\n",
      "datetime                                                                        \n",
      "2019-05-07 02:00:00      NaN      NaN                23.0              43.286   \n",
      "2019-05-07 03:00:00     50.5     25.0                19.0              35.758   \n",
      "2019-05-07 04:00:00     45.0     27.7                19.0              35.758   \n",
      "2019-05-07 05:00:00      NaN     50.4                16.0              30.112   \n",
      "2019-05-07 06:00:00      NaN     61.9                 NaN                 NaN   \n",
      "\n",
      "                     ratio_paris_antwerp  \n",
      "datetime                                  \n",
      "2019-05-07 02:00:00                  NaN  \n",
      "2019-05-07 03:00:00             0.495050  \n",
      "2019-05-07 04:00:00             0.615556  \n",
      "2019-05-07 05:00:00                  NaN  \n",
      "2019-05-07 06:00:00                  NaN  \n"
     ]
    }
   ],
   "source": [
    "air_quality_renamed = air_quality.rename(\n",
    "    columns = {\n",
    "        \"station_antwerp\": \"BETR801\",\n",
    "        \"station_paris\": \"FR04014\",\n",
    "        \"station_london\": \"London Westminster\",\n",
    "    }\n",
    ")\n",
    "\n",
    "print(air_quality_renamed.info())\n",
    "\n",
    "print(air_quality_renamed.head())"
   ]
  },
  {
   "cell_type": "markdown",
   "id": "0f6cae3d",
   "metadata": {},
   "source": [
    "> `rename()`的`columns`參數, 不只限於使用固定名稱來配對改變，也還可以使用一個函數。例如，使用函數將列名轉換為小寫字母："
   ]
  },
  {
   "cell_type": "code",
   "execution_count": 39,
   "id": "5cbb2960",
   "metadata": {},
   "outputs": [
    {
     "name": "stdout",
     "output_type": "stream",
     "text": [
      "<class 'pandas.core.frame.DataFrame'>\n",
      "DatetimeIndex: 1035 entries, 2019-05-07 02:00:00 to 2019-06-21 02:00:00\n",
      "Data columns (total 5 columns):\n",
      " #   Column               Non-Null Count  Dtype  \n",
      "---  ------               --------------  -----  \n",
      " 0   betr801              95 non-null     float64\n",
      " 1   fr04014              1004 non-null   float64\n",
      " 2   london westminster   969 non-null    float64\n",
      " 3   lodon_mg_per_cubic   969 non-null    float64\n",
      " 4   ratio_paris_antwerp  95 non-null     float64\n",
      "dtypes: float64(5)\n",
      "memory usage: 48.5 KB\n",
      "None\n",
      "                     betr801  fr04014  london westminster  lodon_mg_per_cubic  \\\n",
      "datetime                                                                        \n",
      "2019-05-07 02:00:00      NaN      NaN                23.0              43.286   \n",
      "2019-05-07 03:00:00     50.5     25.0                19.0              35.758   \n",
      "2019-05-07 04:00:00     45.0     27.7                19.0              35.758   \n",
      "2019-05-07 05:00:00      NaN     50.4                16.0              30.112   \n",
      "2019-05-07 06:00:00      NaN     61.9                 NaN                 NaN   \n",
      "\n",
      "                     ratio_paris_antwerp  \n",
      "datetime                                  \n",
      "2019-05-07 02:00:00                  NaN  \n",
      "2019-05-07 03:00:00             0.495050  \n",
      "2019-05-07 04:00:00             0.615556  \n",
      "2019-05-07 05:00:00                  NaN  \n",
      "2019-05-07 06:00:00                  NaN  \n"
     ]
    }
   ],
   "source": [
    "air_quality_renamed = air_quality_renamed.rename(columns=str.lower)\n",
    "\n",
    "print(air_quality_renamed.info())\n",
    "\n",
    "print(air_quality_renamed.head())"
   ]
  },
  {
   "cell_type": "markdown",
   "id": "64fca38c",
   "metadata": {},
   "source": [
    "## 如何計算資料的匯總與進行統計運算?\n",
    "\n",
    "### 匯總統計 (descriptive statictics)\n",
    "\n",
    "![](images/06_aggregate.svg)\n",
    "\n",
    "\n"
   ]
  },
  {
   "cell_type": "markdown",
   "id": "73d844b7",
   "metadata": {},
   "source": [
    "> <i class=\"fa fa-question-circle\" style=\"font-size: 22px;color:#DE3163;\"></i> Titanic乘客的平均年齡是多少?"
   ]
  },
  {
   "cell_type": "code",
   "execution_count": 40,
   "id": "7fdc7463",
   "metadata": {},
   "outputs": [
    {
     "name": "stdout",
     "output_type": "stream",
     "text": [
      "29.69911764705882\n",
      "<class 'numpy.float64'>\n"
     ]
    }
   ],
   "source": [
    "#可以將其應用於具有數字數據的column。通常，操作會排除missing data的數據\n",
    "mean_age = df_titanic[\"Age\"].mean()\n",
    "\n",
    "print(mean_age)\n",
    "\n",
    "print(type(mean_age))"
   ]
  },
  {
   "cell_type": "markdown",
   "id": "215986c1",
   "metadata": {},
   "source": [
    "可以使用不同的統計信息，並且可以將其應用於具有`數字`數據的column。通常，操作會排除`missing data`的數據，並且預設情況下會跨行(across rows)進行操作。\n",
    "\n",
    "![](images/06_reduction.svg)"
   ]
  },
  {
   "cell_type": "markdown",
   "id": "87fcb8d2",
   "metadata": {},
   "source": [
    "> <i class=\"fa fa-question-circle\" style=\"font-size: 22px;color:#DE3163;\"></i> Titanic乘客的年齡中位數和票價是多少？\n",
    "\n",
    "> 將為每個數字column計算應用於DataFrame的多個column的統計信息（選擇兩個column將返回一個DataFrame）。"
   ]
  },
  {
   "cell_type": "code",
   "execution_count": 49,
   "id": "a6daee3b",
   "metadata": {},
   "outputs": [
    {
     "name": "stdout",
     "output_type": "stream",
     "text": [
      "Age     28.0000\n",
      "Fare    14.4542\n",
      "dtype: float64\n",
      "<class 'pandas.core.series.Series'>\n"
     ]
    }
   ],
   "source": [
    "results = df_titanic[[\"Age\", \"Fare\"]].median()\n",
    "\n",
    "print(results)\n",
    "\n",
    "print(type(results))"
   ]
  },
  {
   "cell_type": "markdown",
   "id": "184ccbe0",
   "metadata": {},
   "source": [
    "Pandas可以同時為多個columns計算匯總統計信息。"
   ]
  },
  {
   "cell_type": "code",
   "execution_count": 42,
   "id": "116553da",
   "metadata": {},
   "outputs": [
    {
     "name": "stdout",
     "output_type": "stream",
     "text": [
      "              Age        Fare\n",
      "count  714.000000  891.000000\n",
      "mean    29.699118   32.204208\n",
      "std     14.526497   49.693429\n",
      "min      0.420000    0.000000\n",
      "25%     20.125000    7.910400\n",
      "50%     28.000000   14.454200\n",
      "75%     38.000000   31.000000\n",
      "max     80.000000  512.329200\n",
      "<class 'pandas.core.frame.DataFrame'>\n"
     ]
    }
   ],
   "source": [
    "results = df_titanic[[\"Age\", \"Fare\"]].describe()\n",
    "\n",
    "print(results)\n",
    "\n",
    "print(type(results))"
   ]
  },
  {
   "cell_type": "markdown",
   "id": "7246617d",
   "metadata": {},
   "source": [
    "除了上述範例直接使用預定義的統計信息以外，也可以使用`DataFrame.agg()`方法定義給定列的匯總統計信息的特定組合："
   ]
  },
  {
   "cell_type": "code",
   "execution_count": 50,
   "id": "7c8b19f9",
   "metadata": {},
   "outputs": [
    {
     "name": "stdout",
     "output_type": "stream",
     "text": [
      "              Age        Fare\n",
      "min      0.420000    0.000000\n",
      "max     80.000000  512.329200\n",
      "median  28.000000   14.454200\n",
      "skew     0.389108         NaN\n",
      "mean          NaN   32.204208\n",
      "<class 'pandas.core.frame.DataFrame'>\n"
     ]
    }
   ],
   "source": [
    "results = df_titanic.agg(\n",
    "    {\n",
    "        \"Age\":[\"min\", \"max\", \"median\", \"skew\"],\n",
    "        \"Fare\":[\"min\", \"max\", \"median\", \"mean\"],    \n",
    "    }\n",
    ")\n",
    "\n",
    "print(results)\n",
    "\n",
    "print(type(results))"
   ]
  },
  {
   "cell_type": "markdown",
   "id": "6291dcfd",
   "metadata": {},
   "source": [
    "> 有關描述性統計信息的詳細信息，請參見描述性統計信息的[用戶指南](https://pandas.pydata.org/docs/user_guide/basics.html#descriptive-statistics)。"
   ]
  },
  {
   "cell_type": "markdown",
   "id": "276c5a68",
   "metadata": {},
   "source": [
    "### 匯總按類別分組的統計信息(group by)\n",
    "\n",
    "![](images/06_groupby.svg)"
   ]
  },
  {
   "cell_type": "markdown",
   "id": "ceaf4041",
   "metadata": {},
   "source": [
    "> <i class=\"fa fa-question-circle\" style=\"font-size: 22px;color:#DE3163;\"></i> Titanic男女乘客的平均年齡是多少？\n",
    "\n",
    "> 由於我們的興趣是每種性別的平均年齡，因此首先在這兩個列上進行了子選擇：`df_titanic[[\"Sex\", \"Age\"]]`。接下來，將`groupby()`方法應用於`Sex`列，以按類別創建一個group。計算並返回每種性別的平均年齡。"
   ]
  },
  {
   "cell_type": "code",
   "execution_count": 51,
   "id": "c2d623cc",
   "metadata": {},
   "outputs": [
    {
     "name": "stdout",
     "output_type": "stream",
     "text": [
      "              Age\n",
      "Sex              \n",
      "female  27.915709\n",
      "male    30.726645\n",
      "<class 'pandas.core.frame.DataFrame'>\n"
     ]
    }
   ],
   "source": [
    "results = df_titanic[[\"Sex\", \"Age\"]].groupby(\"Sex\").mean()\n",
    "\n",
    "print(results)\n",
    "\n",
    "print(type(results))"
   ]
  },
  {
   "cell_type": "markdown",
   "id": "e9486369",
   "metadata": {},
   "source": [
    "通常為列中的每個類別（例如`Sex`列中的男性/女性）計算給定的統計信息（例如平均年齡）。 `groupby`方法用於支持這種類型的操作。更籠統地說，這適合於更一般的`split-apply-combine`模式：\n",
    "\n",
    "* **Split** the data into groups\n",
    "\n",
    "* **Apply** a function to each group independently\n",
    "\n",
    "* **Combine** the results into a data structure\n",
    "\n",
    "`apply `和`combine`步驟通常在pandas中一起完成。"
   ]
  },
  {
   "cell_type": "markdown",
   "id": "b37f4fe2",
   "metadata": {},
   "source": [
    "在前面的範例中，我們首先明確選擇了2列。如果不是，則會將`mean`方法應用於包含**數字列**的每個列："
   ]
  },
  {
   "cell_type": "code",
   "execution_count": 52,
   "id": "92621447",
   "metadata": {},
   "outputs": [
    {
     "name": "stdout",
     "output_type": "stream",
     "text": [
      "<class 'pandas.core.frame.DataFrame'>\n",
      "RangeIndex: 891 entries, 0 to 890\n",
      "Data columns (total 12 columns):\n",
      " #   Column       Non-Null Count  Dtype  \n",
      "---  ------       --------------  -----  \n",
      " 0   PassengerId  891 non-null    int64  \n",
      " 1   Survived     891 non-null    int64  \n",
      " 2   Pclass       891 non-null    int64  \n",
      " 3   Name         891 non-null    object \n",
      " 4   Sex          891 non-null    object \n",
      " 5   Age          714 non-null    float64\n",
      " 6   SibSp        891 non-null    int64  \n",
      " 7   Parch        891 non-null    int64  \n",
      " 8   Ticket       891 non-null    object \n",
      " 9   Fare         891 non-null    float64\n",
      " 10  Cabin        204 non-null    object \n",
      " 11  Embarked     889 non-null    object \n",
      "dtypes: float64(2), int64(5), object(5)\n",
      "memory usage: 83.7+ KB\n",
      "None\n",
      "        PassengerId  Survived    Pclass        Age     SibSp     Parch  \\\n",
      "Sex                                                                      \n",
      "female   431.028662  0.742038  2.159236  27.915709  0.694268  0.649682   \n",
      "male     454.147314  0.188908  2.389948  30.726645  0.429809  0.235702   \n",
      "\n",
      "             Fare  \n",
      "Sex                \n",
      "female  44.479818  \n",
      "male    25.523893  \n",
      "<class 'pandas.core.frame.DataFrame'>\n"
     ]
    }
   ],
   "source": [
    "print(df_titanic.info())\n",
    "\n",
    "results = df_titanic.groupby(\"Sex\").mean()\n",
    "\n",
    "print(results)\n",
    "\n",
    "print(type(results))"
   ]
  },
  {
   "cell_type": "markdown",
   "id": "9c0ef27d",
   "metadata": {},
   "source": [
    "獲取艙別`Pclass`的平均值沒有多大意義。如果我們只對每種性別的平均年齡感興趣，則分組數據中也支持選擇列（通常為矩形括號`[]`）：\n",
    "\n",
    "> Pclass列包含數值數據，但實際上代表3個類別，分別是\"1\",\"2\"與\"3\"。計算這些統計數據沒有多大意義。因此，pandas提供了`Categorical`數據類型來處理這種類型的數據。用戶指南[類別數據](https://pandas.pydata.org/docs/user_guide/categorical.html#categorical)部分中提供了更多訊息。"
   ]
  },
  {
   "cell_type": "code",
   "execution_count": 53,
   "id": "615fa37f",
   "metadata": {},
   "outputs": [
    {
     "name": "stdout",
     "output_type": "stream",
     "text": [
      "Sex\n",
      "female    27.915709\n",
      "male      30.726645\n",
      "Name: Age, dtype: float64\n",
      "<class 'pandas.core.series.Series'>\n"
     ]
    }
   ],
   "source": [
    "results = df_titanic.groupby(\"Sex\")[\"Age\"].mean()\n",
    "\n",
    "print(results)\n",
    "\n",
    "print(type(results))"
   ]
  },
  {
   "cell_type": "markdown",
   "id": "e44e105c",
   "metadata": {},
   "source": [
    "![](images/06_groupby_select_detail.svg)"
   ]
  },
  {
   "cell_type": "markdown",
   "id": "b0bd6268",
   "metadata": {},
   "source": [
    "> <i class=\"fa fa-question-circle\" style=\"font-size: 22px;color:#DE3163;\"></i> 性別和機艙艙位組合的平均票價是多少?\n",
    "\n",
    "> 分組可以同時由多個列完成。將列名作為列表提供給`groupby()`方法。"
   ]
  },
  {
   "cell_type": "code",
   "execution_count": 54,
   "id": "8a5012a3",
   "metadata": {},
   "outputs": [
    {
     "name": "stdout",
     "output_type": "stream",
     "text": [
      "Sex     Pclass\n",
      "female  1         106.125798\n",
      "        2          21.970121\n",
      "        3          16.118810\n",
      "male    1          67.226127\n",
      "        2          19.741782\n",
      "        3          12.661633\n",
      "Name: Fare, dtype: float64\n",
      "<class 'pandas.core.series.Series'>\n"
     ]
    }
   ],
   "source": [
    "results = df_titanic.groupby([\"Sex\", \"Pclass\"])[\"Fare\"].mean()\n",
    "\n",
    "print(results)\n",
    "\n",
    "print(type(results))"
   ]
  },
  {
   "cell_type": "markdown",
   "id": "aef04c33",
   "metadata": {},
   "source": [
    "### 按類別計數記錄數 (count)\n",
    "\n",
    "![](images/06_valuecounts.svg)"
   ]
  },
  {
   "cell_type": "markdown",
   "id": "466ba079",
   "metadata": {},
   "source": [
    "> <i class=\"fa fa-question-circle\" style=\"font-size: 22px;color:#DE3163;\"></i> 每個艙位的乘客人數是多少?\n",
    "\n",
    "> `value_counts()`方法計算列中每個類別的記錄數。"
   ]
  },
  {
   "cell_type": "code",
   "execution_count": 55,
   "id": "86e9792d",
   "metadata": {},
   "outputs": [
    {
     "name": "stdout",
     "output_type": "stream",
     "text": [
      "3    491\n",
      "1    216\n",
      "2    184\n",
      "Name: Pclass, dtype: int64\n",
      "<class 'pandas.core.series.Series'>\n"
     ]
    }
   ],
   "source": [
    "results = df_titanic[\"Pclass\"].value_counts()\n",
    "\n",
    "print(results)\n",
    "\n",
    "print(type(results))"
   ]
  },
  {
   "cell_type": "markdown",
   "id": "8025a086",
   "metadata": {},
   "source": [
    "`value_counts()`函數是一個快捷方式，因為它實際上是一個`groupby`操作，結合了對每個組中記錄數的計數："
   ]
  },
  {
   "cell_type": "code",
   "execution_count": 57,
   "id": "f94f11ed",
   "metadata": {},
   "outputs": [
    {
     "name": "stdout",
     "output_type": "stream",
     "text": [
      "Pclass\n",
      "1    216\n",
      "2    184\n",
      "3    491\n",
      "Name: Pclass, dtype: int64\n",
      "<class 'pandas.core.series.Series'>\n"
     ]
    }
   ],
   "source": [
    "#size()包括NaN值，僅提供行數（表的大小），而count()則排除缺失的值\n",
    "results = df_titanic.groupby(\"Pclass\")[\"Pclass\"].count()\n",
    "\n",
    "print(results)\n",
    "\n",
    "print(type(results))"
   ]
  },
  {
   "cell_type": "markdown",
   "id": "0eb9cfe2",
   "metadata": {},
   "source": [
    "> `size()`和`count()`都可以與`groupby`結合使用。`size()`包括**NaN**值，僅提供行數（表的大小），而`count()`則排除**缺失的值**。在value_counts方法中，使用dropna參數包含或排除NaN值。"
   ]
  },
  {
   "cell_type": "markdown",
   "id": "1dd60d60",
   "metadata": {},
   "source": [
    "## 如何重塑Dataframe的layout?\n",
    "\n",
    "### 排序Dataframe的內容\n",
    "\n",
    "> <i class=\"fa fa-question-circle\" style=\"font-size: 22px;color:#DE3163;\"></i> 我想根據乘客的年齡對Titanic數據進行排序。"
   ]
  },
  {
   "cell_type": "code",
   "execution_count": 62,
   "id": "a897cede",
   "metadata": {},
   "outputs": [
    {
     "name": "stdout",
     "output_type": "stream",
     "text": [
      "     PassengerId  Survived  Pclass                                      Name  \\\n",
      "630          631         1       1      Barkworth, Mr. Algernon Henry Wilson   \n",
      "851          852         0       3                       Svensson, Mr. Johan   \n",
      "493          494         0       1                   Artagaveytia, Mr. Ramon   \n",
      "96            97         0       1                 Goldschmidt, Mr. George B   \n",
      "116          117         0       3                      Connors, Mr. Patrick   \n",
      "..           ...       ...     ...                                       ...   \n",
      "859          860         0       3                          Razi, Mr. Raihed   \n",
      "863          864         0       3         Sage, Miss. Dorothy Edith \"Dolly\"   \n",
      "868          869         0       3               van Melkebeke, Mr. Philemon   \n",
      "878          879         0       3                        Laleff, Mr. Kristo   \n",
      "888          889         0       3  Johnston, Miss. Catherine Helen \"Carrie\"   \n",
      "\n",
      "        Sex   Age  SibSp  Parch      Ticket     Fare Cabin Embarked  \n",
      "630    male  80.0      0      0       27042  30.0000   A23        S  \n",
      "851    male  74.0      0      0      347060   7.7750   NaN        S  \n",
      "493    male  71.0      0      0    PC 17609  49.5042   NaN        C  \n",
      "96     male  71.0      0      0    PC 17754  34.6542    A5        C  \n",
      "116    male  70.5      0      0      370369   7.7500   NaN        Q  \n",
      "..      ...   ...    ...    ...         ...      ...   ...      ...  \n",
      "859    male   NaN      0      0        2629   7.2292   NaN        C  \n",
      "863  female   NaN      8      2    CA. 2343  69.5500   NaN        S  \n",
      "868    male   NaN      0      0      345777   9.5000   NaN        S  \n",
      "878    male   NaN      0      0      349217   7.8958   NaN        S  \n",
      "888  female   NaN      1      2  W./C. 6607  23.4500   NaN        S  \n",
      "\n",
      "[891 rows x 12 columns]\n",
      "<class 'pandas.core.frame.DataFrame'>\n"
     ]
    }
   ],
   "source": [
    "#預設升序, + ascending = False --> 降序\n",
    "results = df_titanic.sort_values(by=\"Age\")\n",
    "\n",
    "print(results)\n",
    "\n",
    "print(type(results))"
   ]
  },
  {
   "cell_type": "markdown",
   "id": "d6798fab",
   "metadata": {},
   "source": [
    "> <i class=\"fa fa-question-circle\" style=\"font-size: 22px;color:#DE3163;\"></i> 我想根據機艙等級和年齡按降序對Titanic數據進行排序。"
   ]
  },
  {
   "cell_type": "code",
   "execution_count": 59,
   "id": "b07e5f09",
   "metadata": {},
   "outputs": [
    {
     "name": "stdout",
     "output_type": "stream",
     "text": [
      "     PassengerId  Survived  Pclass  \\\n",
      "803          804         1       3   \n",
      "469          470         1       3   \n",
      "644          645         1       3   \n",
      "164          165         0       3   \n",
      "172          173         1       3   \n",
      "..           ...       ...     ...   \n",
      "766          767         0       1   \n",
      "793          794         0       1   \n",
      "815          816         0       1   \n",
      "839          840         1       1   \n",
      "849          850         1       1   \n",
      "\n",
      "                                             Name     Sex   Age  SibSp  Parch  \\\n",
      "803               Thomas, Master. Assad Alexander    male  0.42      0      1   \n",
      "469                 Baclini, Miss. Helene Barbara  female  0.75      2      1   \n",
      "644                        Baclini, Miss. Eugenie  female  0.75      2      1   \n",
      "164                  Panula, Master. Eino Viljami    male  1.00      4      1   \n",
      "172                  Johnson, Miss. Eleanor Ileen  female  1.00      1      1   \n",
      "..                                            ...     ...   ...    ...    ...   \n",
      "766                     Brewe, Dr. Arthur Jackson    male   NaN      0      0   \n",
      "793                      Hoyt, Mr. William Fisher    male   NaN      0      0   \n",
      "815                              Fry, Mr. Richard    male   NaN      0      0   \n",
      "839                          Marechal, Mr. Pierre    male   NaN      0      0   \n",
      "849  Goldenberg, Mrs. Samuel L (Edwiga Grabowska)  female   NaN      1      0   \n",
      "\n",
      "       Ticket     Fare Cabin Embarked  \n",
      "803      2625   8.5167   NaN        C  \n",
      "469      2666  19.2583   NaN        C  \n",
      "644      2666  19.2583   NaN        C  \n",
      "164   3101295  39.6875   NaN        S  \n",
      "172    347742  11.1333   NaN        S  \n",
      "..        ...      ...   ...      ...  \n",
      "766    112379  39.6000   NaN        C  \n",
      "793  PC 17600  30.6958   NaN        C  \n",
      "815    112058   0.0000  B102        S  \n",
      "839     11774  29.7000   C47        C  \n",
      "849     17453  89.1042   C92        C  \n",
      "\n",
      "[891 rows x 12 columns]\n",
      "<class 'pandas.core.frame.DataFrame'>\n"
     ]
    }
   ],
   "source": [
    "results = df_titanic.sort_values(by=['Pclass', 'Age'], ascending=[False, True])\n",
    "\n",
    "print(results)\n",
    "\n",
    "print(type(results))"
   ]
  },
  {
   "cell_type": "markdown",
   "id": "66c21b89",
   "metadata": {},
   "source": [
    "### 從長表(long table)轉換成寬表(wide table)\n",
    "\n",
    "![](images/07_pivot.svg)\n",
    "\n",
    "讓我們使用空氣質量數據集的一小部分。我們專注於NO2數據，並且僅使用每個位置（即每個組的頭）的前兩個測量值。數據子集將稱為no2_subset"
   ]
  },
  {
   "cell_type": "code",
   "execution_count": 63,
   "id": "82ca96c2",
   "metadata": {},
   "outputs": [
    {
     "name": "stdout",
     "output_type": "stream",
     "text": [
      "<class 'pandas.core.frame.DataFrame'>\n",
      "DatetimeIndex: 5272 entries, 2019-06-18 06:00:00+00:00 to 2019-04-09 02:00:00+00:00\n",
      "Data columns (total 6 columns):\n",
      " #   Column     Non-Null Count  Dtype  \n",
      "---  ------     --------------  -----  \n",
      " 0   city       5272 non-null   object \n",
      " 1   country    5272 non-null   object \n",
      " 2   location   5272 non-null   object \n",
      " 3   parameter  5272 non-null   object \n",
      " 4   value      5272 non-null   float64\n",
      " 5   unit       5272 non-null   object \n",
      "dtypes: float64(1), object(5)\n",
      "memory usage: 288.3+ KB\n",
      "None\n",
      "                                city country location parameter  value   unit\n",
      "date.utc                                                                     \n",
      "2019-06-18 06:00:00+00:00  Antwerpen      BE  BETR801      pm25   18.0  µg/m³\n",
      "2019-06-17 08:00:00+00:00  Antwerpen      BE  BETR801      pm25    6.5  µg/m³\n",
      "2019-06-17 07:00:00+00:00  Antwerpen      BE  BETR801      pm25   18.5  µg/m³\n",
      "2019-06-17 06:00:00+00:00  Antwerpen      BE  BETR801      pm25   16.0  µg/m³\n",
      "2019-06-17 05:00:00+00:00  Antwerpen      BE  BETR801      pm25    7.5  µg/m³\n"
     ]
    }
   ],
   "source": [
    "df_air_quality = pd.read_csv(\"data/air_quality_long.csv\", index_col=\"date.utc\", parse_dates=True)\n",
    "\n",
    "print(df_air_quality.info())\n",
    "\n",
    "print(df_air_quality.head())"
   ]
  },
  {
   "cell_type": "code",
   "execution_count": 64,
   "id": "7a9c5ed6",
   "metadata": {},
   "outputs": [
    {
     "name": "stdout",
     "output_type": "stream",
     "text": [
      "<class 'pandas.core.frame.DataFrame'>\n",
      "DatetimeIndex: 6 entries, 2019-04-09 01:00:00+00:00 to 2019-04-09 03:00:00+00:00\n",
      "Data columns (total 6 columns):\n",
      " #   Column     Non-Null Count  Dtype  \n",
      "---  ------     --------------  -----  \n",
      " 0   city       6 non-null      object \n",
      " 1   country    6 non-null      object \n",
      " 2   location   6 non-null      object \n",
      " 3   parameter  6 non-null      object \n",
      " 4   value      6 non-null      float64\n",
      " 5   unit       6 non-null      object \n",
      "dtypes: float64(1), object(5)\n",
      "memory usage: 336.0+ bytes\n",
      "None\n",
      "                                city country            location parameter  \\\n",
      "date.utc                                                                     \n",
      "2019-04-09 01:00:00+00:00  Antwerpen      BE             BETR801       no2   \n",
      "2019-04-09 01:00:00+00:00      Paris      FR             FR04014       no2   \n",
      "2019-04-09 02:00:00+00:00     London      GB  London Westminster       no2   \n",
      "2019-04-09 02:00:00+00:00  Antwerpen      BE             BETR801       no2   \n",
      "2019-04-09 02:00:00+00:00      Paris      FR             FR04014       no2   \n",
      "2019-04-09 03:00:00+00:00     London      GB  London Westminster       no2   \n",
      "\n",
      "                           value   unit  \n",
      "date.utc                                 \n",
      "2019-04-09 01:00:00+00:00   22.5  µg/m³  \n",
      "2019-04-09 01:00:00+00:00   24.4  µg/m³  \n",
      "2019-04-09 02:00:00+00:00   67.0  µg/m³  \n",
      "2019-04-09 02:00:00+00:00   53.5  µg/m³  \n",
      "2019-04-09 02:00:00+00:00   27.4  µg/m³  \n",
      "2019-04-09 03:00:00+00:00   67.0  µg/m³  \n",
      "<class 'pandas.core.frame.DataFrame'>\n"
     ]
    }
   ],
   "source": [
    "# filter for no2 data only\n",
    "no2 = df_air_quality[df_air_quality[\"parameter\"] == \"no2\"]\n",
    "\n",
    "# use 2 measurements (head) for each location (groupby)\n",
    "no2_subset = no2.sort_index().groupby([\"location\"]).head(2)\n",
    "\n",
    "print(no2_subset.info())\n",
    "\n",
    "print(no2_subset)\n",
    "\n",
    "print(type(no2_subset))"
   ]
  },
  {
   "cell_type": "markdown",
   "id": "834ee1b5",
   "metadata": {},
   "source": [
    "> <i class=\"fa fa-question-circle\" style=\"font-size: 22px;color:#DE3163;\"></i> 我希望將三個工作站的值作為彼此相鄰的單獨列。\n",
    "\n",
    "> `pivot()`函數純粹是對數據進行整形：每個索引/列組合都需要一個值。"
   ]
  },
  {
   "cell_type": "code",
   "execution_count": 65,
   "id": "9674d630",
   "metadata": {},
   "outputs": [
    {
     "name": "stdout",
     "output_type": "stream",
     "text": [
      "location                   BETR801  FR04014  London Westminster\n",
      "date.utc                                                       \n",
      "2019-04-09 01:00:00+00:00     22.5     24.4                 NaN\n",
      "2019-04-09 02:00:00+00:00     53.5     27.4                67.0\n",
      "2019-04-09 03:00:00+00:00      NaN      NaN                67.0\n",
      "<class 'pandas.core.frame.DataFrame'>\n"
     ]
    }
   ],
   "source": [
    "results = no2_subset.pivot(columns=\"location\", values=\"value\")\n",
    "\n",
    "print(results)\n",
    "\n",
    "print(type(results))"
   ]
  },
  {
   "cell_type": "markdown",
   "id": "0aec923d",
   "metadata": {},
   "source": [
    "由於pandas支持開箱即用的多列繪圖，從長表格式轉換為寬表格式可以同時繪製不同的時間序列："
   ]
  },
  {
   "cell_type": "code",
   "execution_count": 66,
   "id": "ceccbebf",
   "metadata": {},
   "outputs": [
    {
     "name": "stdout",
     "output_type": "stream",
     "text": [
      "                            city country location parameter  value   unit\n",
      "date.utc                                                                 \n",
      "2019-06-21 00:00:00+00:00  Paris      FR  FR04014       no2   20.0  µg/m³\n",
      "2019-06-20 23:00:00+00:00  Paris      FR  FR04014       no2   21.8  µg/m³\n",
      "2019-06-20 22:00:00+00:00  Paris      FR  FR04014       no2   26.5  µg/m³\n",
      "2019-06-20 21:00:00+00:00  Paris      FR  FR04014       no2   24.9  µg/m³\n",
      "2019-06-20 20:00:00+00:00  Paris      FR  FR04014       no2   21.4  µg/m³\n"
     ]
    }
   ],
   "source": [
    "print(no2.head())"
   ]
  },
  {
   "cell_type": "code",
   "execution_count": 67,
   "id": "99ffa25b",
   "metadata": {},
   "outputs": [
    {
     "data": {
      "text/plain": [
       "<AxesSubplot:xlabel='date.utc'>"
      ]
     },
     "execution_count": 67,
     "metadata": {},
     "output_type": "execute_result"
    },
    {
     "data": {
      "image/png": "[encoded data removed]",
      "text/plain": [
       "<Figure size 432x288 with 1 Axes>"
      ]
     },
     "metadata": {
      "needs_background": "light"
     },
     "output_type": "display_data"
    }
   ],
   "source": [
    "no2.pivot(columns=\"location\", values=\"value\").plot()"
   ]
  },
  {
   "cell_type": "markdown",
   "id": "3b5a12fa",
   "metadata": {},
   "source": [
    "### 樞紐分析表(Pivot Table)\n",
    "\n",
    "![](images/07_pivot_table.svg)"
   ]
  },
  {
   "cell_type": "markdown",
   "id": "75ce4182",
   "metadata": {},
   "source": [
    "> <i class=\"fa fa-question-circle\" style=\"font-size: 22px;color:#DE3163;\"></i> 我想以表格形式在每個站點中獲取NO2和PM2.5的平均濃度"
   ]
  },
  {
   "cell_type": "code",
   "execution_count": 68,
   "id": "4a300a15",
   "metadata": {},
   "outputs": [
    {
     "data": {
      "text/html": [
       "<div>\n",
       "<style scoped>\n",
       "    .dataframe tbody tr th:only-of-type {\n",
       "        vertical-align: middle;\n",
       "    }\n",
       "\n",
       "    .dataframe tbody tr th {\n",
       "        vertical-align: top;\n",
       "    }\n",
       "\n",
       "    .dataframe thead th {\n",
       "        text-align: right;\n",
       "    }\n",
       "</style>\n",
       "<table border=\"1\" class=\"dataframe\">\n",
       "  <thead>\n",
       "    <tr style=\"text-align: right;\">\n",
       "      <th>parameter</th>\n",
       "      <th>no2</th>\n",
       "      <th>pm25</th>\n",
       "    </tr>\n",
       "    <tr>\n",
       "      <th>location</th>\n",
       "      <th></th>\n",
       "      <th></th>\n",
       "    </tr>\n",
       "  </thead>\n",
       "  <tbody>\n",
       "    <tr>\n",
       "      <th>BETR801</th>\n",
       "      <td>26.950920</td>\n",
       "      <td>23.169492</td>\n",
       "    </tr>\n",
       "    <tr>\n",
       "      <th>FR04014</th>\n",
       "      <td>29.374284</td>\n",
       "      <td>NaN</td>\n",
       "    </tr>\n",
       "    <tr>\n",
       "      <th>London Westminster</th>\n",
       "      <td>29.740050</td>\n",
       "      <td>13.443568</td>\n",
       "    </tr>\n",
       "  </tbody>\n",
       "</table>\n",
       "</div>"
      ],
      "text/plain": [
       "parameter                 no2       pm25\n",
       "location                                \n",
       "BETR801             26.950920  23.169492\n",
       "FR04014             29.374284        NaN\n",
       "London Westminster  29.740050  13.443568"
      ]
     },
     "execution_count": 68,
     "metadata": {},
     "output_type": "execute_result"
    }
   ],
   "source": [
    "df_air_quality.pivot_table(    \n",
    "    columns=\"parameter\", # 3\n",
    "    index=\"location\", # 4\n",
    "    values=\"value\", # 5\n",
    "    aggfunc=\"mean\" # 5\n",
    ")"
   ]
  },
  {
   "cell_type": "markdown",
   "id": "f1f74428",
   "metadata": {},
   "source": [
    "![](images/07_excel_pivot_table.png)"
   ]
  },
  {
   "cell_type": "markdown",
   "id": "590082b8",
   "metadata": {},
   "source": [
    "樞紐分析表(Pivot Table)是Excel眾所周知的概念。當對每個變量的摘要列(Grand Total)也感興趣時，請將`margin`參數設置為`True`："
   ]
  },
  {
   "cell_type": "code",
   "execution_count": 69,
   "id": "b996cd5f",
   "metadata": {},
   "outputs": [
    {
     "data": {
      "text/html": [
       "<div>\n",
       "<style scoped>\n",
       "    .dataframe tbody tr th:only-of-type {\n",
       "        vertical-align: middle;\n",
       "    }\n",
       "\n",
       "    .dataframe tbody tr th {\n",
       "        vertical-align: top;\n",
       "    }\n",
       "\n",
       "    .dataframe thead th {\n",
       "        text-align: right;\n",
       "    }\n",
       "</style>\n",
       "<table border=\"1\" class=\"dataframe\">\n",
       "  <thead>\n",
       "    <tr style=\"text-align: right;\">\n",
       "      <th>parameter</th>\n",
       "      <th>no2</th>\n",
       "      <th>pm25</th>\n",
       "      <th>All</th>\n",
       "    </tr>\n",
       "    <tr>\n",
       "      <th>location</th>\n",
       "      <th></th>\n",
       "      <th></th>\n",
       "      <th></th>\n",
       "    </tr>\n",
       "  </thead>\n",
       "  <tbody>\n",
       "    <tr>\n",
       "      <th>BETR801</th>\n",
       "      <td>26.950920</td>\n",
       "      <td>23.169492</td>\n",
       "      <td>24.982353</td>\n",
       "    </tr>\n",
       "    <tr>\n",
       "      <th>FR04014</th>\n",
       "      <td>29.374284</td>\n",
       "      <td>NaN</td>\n",
       "      <td>29.374284</td>\n",
       "    </tr>\n",
       "    <tr>\n",
       "      <th>London Westminster</th>\n",
       "      <td>29.740050</td>\n",
       "      <td>13.443568</td>\n",
       "      <td>21.491708</td>\n",
       "    </tr>\n",
       "    <tr>\n",
       "      <th>All</th>\n",
       "      <td>29.430316</td>\n",
       "      <td>14.386849</td>\n",
       "      <td>24.222743</td>\n",
       "    </tr>\n",
       "  </tbody>\n",
       "</table>\n",
       "</div>"
      ],
      "text/plain": [
       "parameter                 no2       pm25        All\n",
       "location                                           \n",
       "BETR801             26.950920  23.169492  24.982353\n",
       "FR04014             29.374284        NaN  29.374284\n",
       "London Westminster  29.740050  13.443568  21.491708\n",
       "All                 29.430316  14.386849  24.222743"
      ]
     },
     "execution_count": 69,
     "metadata": {},
     "output_type": "execute_result"
    }
   ],
   "source": [
    "#margin for subtotal\n",
    "df_air_quality.pivot_table(    \n",
    "    columns=\"parameter\", # 3\n",
    "    index=\"location\", # 4\n",
    "    values=\"value\", # 5\n",
    "    aggfunc=\"mean\", # 5\n",
    "    margins=True,\n",
    ")"
   ]
  },
  {
   "cell_type": "markdown",
   "id": "2d9ae5c6",
   "metadata": {},
   "source": [
    "### 從寬表(wide table)轉換成長表(long table)\n",
    "\n",
    "![](images/07_melt.svg)"
   ]
  },
  {
   "cell_type": "code",
   "execution_count": 70,
   "id": "6edbd09c",
   "metadata": {},
   "outputs": [
    {
     "name": "stdout",
     "output_type": "stream",
     "text": [
      "location                  date.utc  BETR801  FR04014  London Westminster\n",
      "0        2019-04-09 01:00:00+00:00     22.5     24.4                 NaN\n",
      "1        2019-04-09 02:00:00+00:00     53.5     27.4                67.0\n",
      "2        2019-04-09 03:00:00+00:00     54.5     34.2                67.0\n",
      "3        2019-04-09 04:00:00+00:00     34.5     48.5                41.0\n",
      "4        2019-04-09 05:00:00+00:00     46.5     59.5                41.0\n",
      "...                            ...      ...      ...                 ...\n",
      "1700     2019-06-20 20:00:00+00:00      NaN     21.4                 NaN\n",
      "1701     2019-06-20 21:00:00+00:00      NaN     24.9                 NaN\n",
      "1702     2019-06-20 22:00:00+00:00      NaN     26.5                 NaN\n",
      "1703     2019-06-20 23:00:00+00:00      NaN     21.8                 NaN\n",
      "1704     2019-06-21 00:00:00+00:00      NaN     20.0                 NaN\n",
      "\n",
      "[1705 rows x 4 columns]\n",
      "<class 'pandas.core.frame.DataFrame'>\n"
     ]
    }
   ],
   "source": [
    "no2_pivoted = no2.pivot(columns=\"location\", values=\"value\").reset_index()\n",
    "\n",
    "print(no2_pivoted)\n",
    "\n",
    "print(type(no2_pivoted))"
   ]
  },
  {
   "cell_type": "markdown",
   "id": "cda3010b",
   "metadata": {},
   "source": [
    "> <i class=\"fa fa-question-circle\" style=\"font-size: 22px;color:#DE3163;\"></i> 我想在一列中收集所有空氣質量NO2測量值（長表）"
   ]
  },
  {
   "cell_type": "code",
   "execution_count": 71,
   "id": "f4cb19b2",
   "metadata": {},
   "outputs": [
    {
     "name": "stdout",
     "output_type": "stream",
     "text": [
      "                      date.utc            location  value\n",
      "0    2019-04-09 01:00:00+00:00             BETR801   22.5\n",
      "1    2019-04-09 02:00:00+00:00             BETR801   53.5\n",
      "2    2019-04-09 03:00:00+00:00             BETR801   54.5\n",
      "3    2019-04-09 04:00:00+00:00             BETR801   34.5\n",
      "4    2019-04-09 05:00:00+00:00             BETR801   46.5\n",
      "...                        ...                 ...    ...\n",
      "5110 2019-06-20 20:00:00+00:00  London Westminster    NaN\n",
      "5111 2019-06-20 21:00:00+00:00  London Westminster    NaN\n",
      "5112 2019-06-20 22:00:00+00:00  London Westminster    NaN\n",
      "5113 2019-06-20 23:00:00+00:00  London Westminster    NaN\n",
      "5114 2019-06-21 00:00:00+00:00  London Westminster    NaN\n",
      "\n",
      "[5115 rows x 3 columns]\n",
      "<class 'pandas.core.frame.DataFrame'>\n"
     ]
    }
   ],
   "source": [
    "no_2 = no2_pivoted.melt(id_vars=\"date.utc\")\n",
    "\n",
    "print(no_2)\n",
    "\n",
    "print(type(no_2))"
   ]
  },
  {
   "cell_type": "markdown",
   "id": "e21ecd6b",
   "metadata": {},
   "source": [
    "以上範例是應用了`pandas.melt()`的簡短版本。該方法會將`id_vars`中未提及的所有列合併為兩列：具有列標題名稱的列和具有值本身的列。預設情況下，後一列上獲取名稱值。\n",
    "\n",
    "讓我們可以更詳細地看一下`pandas.melt()`方法的使用："
   ]
  },
  {
   "cell_type": "code",
   "execution_count": 72,
   "id": "860bae75",
   "metadata": {},
   "outputs": [
    {
     "name": "stdout",
     "output_type": "stream",
     "text": [
      "                      date.utc         id_location  NO_2\n",
      "0    2019-04-09 01:00:00+00:00             BETR801  22.5\n",
      "1    2019-04-09 02:00:00+00:00             BETR801  53.5\n",
      "2    2019-04-09 03:00:00+00:00             BETR801  54.5\n",
      "3    2019-04-09 04:00:00+00:00             BETR801  34.5\n",
      "4    2019-04-09 05:00:00+00:00             BETR801  46.5\n",
      "...                        ...                 ...   ...\n",
      "5110 2019-06-20 20:00:00+00:00  London Westminster   NaN\n",
      "5111 2019-06-20 21:00:00+00:00  London Westminster   NaN\n",
      "5112 2019-06-20 22:00:00+00:00  London Westminster   NaN\n",
      "5113 2019-06-20 23:00:00+00:00  London Westminster   NaN\n",
      "5114 2019-06-21 00:00:00+00:00  London Westminster   NaN\n",
      "\n",
      "[5115 rows x 3 columns]\n",
      "<class 'pandas.core.frame.DataFrame'>\n"
     ]
    }
   ],
   "source": [
    "no_2 = no2_pivoted.melt(\n",
    "    id_vars=\"date.utc\",\n",
    "    value_vars=[\"BETR801\", \"FR04014\", \"London Westminster\"],\n",
    "    value_name=\"NO_2\",\n",
    "    var_name=\"id_location\",\n",
    ")\n",
    "\n",
    "print(no_2)\n",
    "\n",
    "print(type(no_2))"
   ]
  },
  {
   "cell_type": "markdown",
   "id": "35217c81",
   "metadata": {},
   "source": [
    "結果相同，但更詳細地定義：\n",
    "\n",
    "* **value_vars** defines explicitly which columns to melt together\n",
    "\n",
    "* **value_name** provides a custom column name for the values column instead of the default column name value\n",
    "\n",
    "* **var_name** provides a custom column name for the column collecting the column header names. Otherwise it takes the index name or a default variable"
   ]
  },
  {
   "cell_type": "markdown",
   "id": "935de2db",
   "metadata": {},
   "source": [
    "## 如何合併來自多個表的數據？\n"
   ]
  },
  {
   "cell_type": "markdown",
   "id": "efbf9c40",
   "metadata": {},
   "source": [
    "### 合併Dataframe\n",
    "\n",
    "![](images/08_concat_row.svg)"
   ]
  },
  {
   "cell_type": "markdown",
   "id": "44539cf7",
   "metadata": {},
   "source": [
    "使用的數據: \n",
    "\n",
    "1. **Air quality NO2 data**\n",
    "    \n",
    "`air_quality_no2_long.csv`數據集為分別位於巴黎，安特衛普和倫敦的測量站FR04014，BETR801和倫敦威斯敏斯特提供了NO2值。\n",
    "\n",
    "2. **Air quality PM2.5 data**\n",
    "\n",
    "`air_quality_pm25_long.csv`數據集為分別位於巴黎，安特衛普和倫敦的測量站FR04014，BETR801和倫敦威斯敏斯特提供了PM2.5值。"
   ]
  },
  {
   "cell_type": "code",
   "execution_count": 73,
   "id": "d6894a56",
   "metadata": {},
   "outputs": [
    {
     "name": "stdout",
     "output_type": "stream",
     "text": [
      "                    date.utc location parameter  value\n",
      "0  2019-06-21 00:00:00+00:00  FR04014       no2   20.0\n",
      "1  2019-06-20 23:00:00+00:00  FR04014       no2   21.8\n",
      "2  2019-06-20 22:00:00+00:00  FR04014       no2   26.5\n",
      "3  2019-06-20 21:00:00+00:00  FR04014       no2   24.9\n",
      "4  2019-06-20 20:00:00+00:00  FR04014       no2   21.4\n"
     ]
    }
   ],
   "source": [
    "air_quality_no2 = pd.read_csv(\"data/air_quality_no2_long.csv\",parse_dates=True)\n",
    "\n",
    "air_quality_no2 = air_quality_no2[[\"date.utc\", \"location\",\"parameter\", \"value\"]]\n",
    "\n",
    "print(air_quality_no2.head())"
   ]
  },
  {
   "cell_type": "code",
   "execution_count": 74,
   "id": "25002eaa",
   "metadata": {},
   "outputs": [
    {
     "name": "stdout",
     "output_type": "stream",
     "text": [
      "                    date.utc location parameter  value\n",
      "0  2019-06-18 06:00:00+00:00  BETR801      pm25   18.0\n",
      "1  2019-06-17 08:00:00+00:00  BETR801      pm25    6.5\n",
      "2  2019-06-17 07:00:00+00:00  BETR801      pm25   18.5\n",
      "3  2019-06-17 06:00:00+00:00  BETR801      pm25   16.0\n",
      "4  2019-06-17 05:00:00+00:00  BETR801      pm25    7.5\n"
     ]
    }
   ],
   "source": [
    "air_quality_pm25 = pd.read_csv(\"data/air_quality_pm25_long.csv\", parse_dates=True)\n",
    "\n",
    "air_quality_pm25 = air_quality_pm25[[\"date.utc\", \"location\", \"parameter\", \"value\"]]\n",
    "\n",
    "print(air_quality_pm25.head())"
   ]
  },
  {
   "cell_type": "markdown",
   "id": "fa5ccdc7",
   "metadata": {},
   "source": [
    "> <i class=\"fa fa-question-circle\" style=\"font-size: 22px;color:#DE3163;\"></i> 我想將NO2和PM25的測量值（具有相似結構的兩個表）合併到一個表中\n",
    "\n",
    "> `concat()`函數沿一個軸（row-wise 或 column-wise）執行多個表的串聯操作。"
   ]
  },
  {
   "cell_type": "code",
   "execution_count": 75,
   "id": "9206c7ba",
   "metadata": {},
   "outputs": [
    {
     "name": "stdout",
     "output_type": "stream",
     "text": [
      "<class 'pandas.core.frame.DataFrame'>\n",
      "Int64Index: 3178 entries, 0 to 2067\n",
      "Data columns (total 4 columns):\n",
      " #   Column     Non-Null Count  Dtype  \n",
      "---  ------     --------------  -----  \n",
      " 0   date.utc   3178 non-null   object \n",
      " 1   location   3178 non-null   object \n",
      " 2   parameter  3178 non-null   object \n",
      " 3   value      3178 non-null   float64\n",
      "dtypes: float64(1), object(3)\n",
      "memory usage: 124.1+ KB\n",
      "None\n",
      "                    date.utc location parameter  value\n",
      "0  2019-06-18 06:00:00+00:00  BETR801      pm25   18.0\n",
      "1  2019-06-17 08:00:00+00:00  BETR801      pm25    6.5\n",
      "2  2019-06-17 07:00:00+00:00  BETR801      pm25   18.5\n",
      "3  2019-06-17 06:00:00+00:00  BETR801      pm25   16.0\n",
      "4  2019-06-17 05:00:00+00:00  BETR801      pm25    7.5\n"
     ]
    }
   ],
   "source": [
    "# 默認axis = 0 / axis = 0 是上下接 ; axis = 1 是左右接\n",
    "air_quality = pd.concat([air_quality_pm25, air_quality_no2], axis=0)\n",
    "\n",
    "print(air_quality.info())\n",
    "\n",
    "print(air_quality.head())"
   ]
  },
  {
   "cell_type": "markdown",
   "id": "eaf19572",
   "metadata": {},
   "source": [
    "默認情況下，串聯是沿axis 0進行的，因此結果表將合併rows。讓我們檢查原始表格和連接表格的shape以驗證操作："
   ]
  },
  {
   "cell_type": "code",
   "execution_count": 76,
   "id": "ad46a58b",
   "metadata": {},
   "outputs": [
    {
     "name": "stdout",
     "output_type": "stream",
     "text": [
      "Shape of the ``air_quality_pm25`` table:  (1110, 4)\n",
      "Shape of the ``air_quality_no2`` table:  (2068, 4)\n",
      "Shape of the resulting ``air_quality`` table:  (3178, 4)\n"
     ]
    }
   ],
   "source": [
    "print('Shape of the ``air_quality_pm25`` table: ', air_quality_pm25.shape)\n",
    "\n",
    "print('Shape of the ``air_quality_no2`` table: ', air_quality_no2.shape)\n",
    "\n",
    "print('Shape of the resulting ``air_quality`` table: ', air_quality.shape)"
   ]
  },
  {
   "cell_type": "markdown",
   "id": "aa201e0d",
   "metadata": {},
   "source": [
    "因此，結果資料表具有 3178 = 1110 + 2068 行。\n",
    "\n",
    "`axis參數`將返回許多可沿軸應用的pandas方法。 DataFrame具有兩個對應的軸：第一個垂直跨行向下（axis 0），第二個水平跨列（axis 1）。預設情況下，大多數操作（如串聯或匯總統計信息）默認使用（axis 0）。"
   ]
  },
  {
   "cell_type": "markdown",
   "id": "e630b4a8",
   "metadata": {},
   "source": [
    "### 使用一個共同的identifier來Join Tables\n",
    "\n",
    "![](images/08_merge_left.svg)"
   ]
  },
  {
   "cell_type": "markdown",
   "id": "9bc2c09c",
   "metadata": {},
   "source": [
    "> <i class=\"fa fa-question-circle\" style=\"font-size: 22px;color:#DE3163;\"></i> 我想要將觀測站點元數據表提供的站點坐標添加到數據表中裡。"
   ]
  },
  {
   "cell_type": "code",
   "execution_count": 77,
   "id": "0fd8c7b7",
   "metadata": {},
   "outputs": [
    {
     "name": "stdout",
     "output_type": "stream",
     "text": [
      "<class 'pandas.core.frame.DataFrame'>\n",
      "RangeIndex: 66 entries, 0 to 65\n",
      "Data columns (total 3 columns):\n",
      " #   Column                 Non-Null Count  Dtype  \n",
      "---  ------                 --------------  -----  \n",
      " 0   location               66 non-null     object \n",
      " 1   coordinates.latitude   66 non-null     float64\n",
      " 2   coordinates.longitude  66 non-null     float64\n",
      "dtypes: float64(2), object(1)\n",
      "memory usage: 1.7+ KB\n",
      "None\n",
      "  location  coordinates.latitude  coordinates.longitude\n",
      "0  BELAL01              51.23619                4.38522\n",
      "1  BELHB23              51.17030                4.34100\n",
      "2  BELLD01              51.10998                5.00486\n",
      "3  BELLD02              51.12038                5.02155\n",
      "4  BELR833              51.32766                4.36226\n",
      "<class 'pandas.core.frame.DataFrame'>\n"
     ]
    }
   ],
   "source": [
    "station_coord = pd.read_csv(\"data/air_quality_stations.csv\")\n",
    "\n",
    "print(station_coord.info())\n",
    "\n",
    "print(station_coord.head())\n",
    "\n",
    "print(type(station_coord))"
   ]
  },
  {
   "cell_type": "code",
   "execution_count": 78,
   "id": "dfd828f7",
   "metadata": {},
   "outputs": [
    {
     "name": "stdout",
     "output_type": "stream",
     "text": [
      "<class 'pandas.core.frame.DataFrame'>\n",
      "Int64Index: 3178 entries, 0 to 2067\n",
      "Data columns (total 4 columns):\n",
      " #   Column     Non-Null Count  Dtype  \n",
      "---  ------     --------------  -----  \n",
      " 0   date.utc   3178 non-null   object \n",
      " 1   location   3178 non-null   object \n",
      " 2   parameter  3178 non-null   object \n",
      " 3   value      3178 non-null   float64\n",
      "dtypes: float64(1), object(3)\n",
      "memory usage: 124.1+ KB\n",
      "None\n",
      "                    date.utc location parameter  value\n",
      "0  2019-06-18 06:00:00+00:00  BETR801      pm25   18.0\n",
      "1  2019-06-17 08:00:00+00:00  BETR801      pm25    6.5\n",
      "2  2019-06-17 07:00:00+00:00  BETR801      pm25   18.5\n",
      "3  2019-06-17 06:00:00+00:00  BETR801      pm25   16.0\n",
      "4  2019-06-17 05:00:00+00:00  BETR801      pm25    7.5\n"
     ]
    }
   ],
   "source": [
    "print(air_quality.info())\n",
    "\n",
    "print(air_quality.head())"
   ]
  },
  {
   "cell_type": "code",
   "execution_count": 79,
   "id": "33f90e35",
   "metadata": {},
   "outputs": [
    {
     "name": "stdout",
     "output_type": "stream",
     "text": [
      "<class 'pandas.core.frame.DataFrame'>\n",
      "Int64Index: 4182 entries, 0 to 4181\n",
      "Data columns (total 6 columns):\n",
      " #   Column                 Non-Null Count  Dtype  \n",
      "---  ------                 --------------  -----  \n",
      " 0   date.utc               4182 non-null   object \n",
      " 1   location               4182 non-null   object \n",
      " 2   parameter              4182 non-null   object \n",
      " 3   value                  4182 non-null   float64\n",
      " 4   coordinates.latitude   4182 non-null   float64\n",
      " 5   coordinates.longitude  4182 non-null   float64\n",
      "dtypes: float64(3), object(3)\n",
      "memory usage: 228.7+ KB\n",
      "None\n",
      "                    date.utc location parameter  value  coordinates.latitude  \\\n",
      "0  2019-06-18 06:00:00+00:00  BETR801      pm25   18.0              51.20966   \n",
      "1  2019-06-17 08:00:00+00:00  BETR801      pm25    6.5              51.20966   \n",
      "2  2019-06-17 07:00:00+00:00  BETR801      pm25   18.5              51.20966   \n",
      "3  2019-06-17 06:00:00+00:00  BETR801      pm25   16.0              51.20966   \n",
      "4  2019-06-17 05:00:00+00:00  BETR801      pm25    7.5              51.20966   \n",
      "\n",
      "   coordinates.longitude  \n",
      "0                4.43182  \n",
      "1                4.43182  \n",
      "2                4.43182  \n",
      "3                4.43182  \n",
      "4                4.43182  \n"
     ]
    }
   ],
   "source": [
    "air_quality_joined = pd.merge(air_quality, station_coord, how=\"left\", on=\"location\")\n",
    "\n",
    "print(air_quality_joined.info())\n",
    "\n",
    "print(air_quality_joined.head())"
   ]
  },
  {
   "cell_type": "markdown",
   "id": "69463011",
   "metadata": {},
   "source": [
    "使用`merge()`函數，對air_quality表中的每一行，從`station_coord`表中添加相應的坐標。這兩個表都有一個共同的列位置，該列位置用作組合信息的鍵。通過選擇`left`連接，只有air_quality（left）表中可用的位置（即FR04014，BETR801和London Westminster）最終出現在結果表中。合併功能支持多個聯接選項，類似於數據庫`join`的操作。"
   ]
  },
  {
   "cell_type": "markdown",
   "id": "905d4a9a",
   "metadata": {},
   "source": [
    "> <i class=\"fa fa-question-circle\" style=\"font-size: 22px;color:#DE3163;\"></i> 將`parameter元數據表`提供的參數完整描述和名稱添加到度量值表\n",
    "\n",
    "> air quality `parameter元數據表`儲存在`air_quality_parameters.csv`"
   ]
  },
  {
   "cell_type": "code",
   "execution_count": 80,
   "id": "af72cdca",
   "metadata": {},
   "outputs": [
    {
     "name": "stdout",
     "output_type": "stream",
     "text": [
      "<class 'pandas.core.frame.DataFrame'>\n",
      "RangeIndex: 7 entries, 0 to 6\n",
      "Data columns (total 3 columns):\n",
      " #   Column       Non-Null Count  Dtype \n",
      "---  ------       --------------  ----- \n",
      " 0   id           7 non-null      object\n",
      " 1   description  7 non-null      object\n",
      " 2   name         7 non-null      object\n",
      "dtypes: object(3)\n",
      "memory usage: 296.0+ bytes\n",
      "None\n",
      "     id                                        description  name\n",
      "0    bc                                       Black Carbon    BC\n",
      "1    co                                    Carbon Monoxide    CO\n",
      "2   no2                                   Nitrogen Dioxide   NO2\n",
      "3    o3                                              Ozone    O3\n",
      "4  pm10  Particulate matter less than 10 micrometers in...  PM10\n"
     ]
    }
   ],
   "source": [
    "air_quality_parameters = pd.read_csv(\"data/air_quality_parameters.csv\")\n",
    "\n",
    "print(air_quality_parameters.info())\n",
    "\n",
    "print(air_quality_parameters.head())"
   ]
  },
  {
   "cell_type": "code",
   "execution_count": 81,
   "id": "1b9bec65",
   "metadata": {},
   "outputs": [
    {
     "name": "stdout",
     "output_type": "stream",
     "text": [
      "<class 'pandas.core.frame.DataFrame'>\n",
      "Int64Index: 3178 entries, 0 to 2067\n",
      "Data columns (total 4 columns):\n",
      " #   Column     Non-Null Count  Dtype  \n",
      "---  ------     --------------  -----  \n",
      " 0   date.utc   3178 non-null   object \n",
      " 1   location   3178 non-null   object \n",
      " 2   parameter  3178 non-null   object \n",
      " 3   value      3178 non-null   float64\n",
      "dtypes: float64(1), object(3)\n",
      "memory usage: 124.1+ KB\n",
      "None\n",
      "                    date.utc location parameter  value\n",
      "0  2019-06-18 06:00:00+00:00  BETR801      pm25   18.0\n",
      "1  2019-06-17 08:00:00+00:00  BETR801      pm25    6.5\n",
      "2  2019-06-17 07:00:00+00:00  BETR801      pm25   18.5\n",
      "3  2019-06-17 06:00:00+00:00  BETR801      pm25   16.0\n",
      "4  2019-06-17 05:00:00+00:00  BETR801      pm25    7.5\n"
     ]
    }
   ],
   "source": [
    "# Before merge (join)\n",
    "print(air_quality.info())\n",
    "\n",
    "print(air_quality.head())"
   ]
  },
  {
   "cell_type": "code",
   "execution_count": 82,
   "id": "13f0f695",
   "metadata": {},
   "outputs": [
    {
     "name": "stdout",
     "output_type": "stream",
     "text": [
      "<class 'pandas.core.frame.DataFrame'>\n",
      "Int64Index: 3178 entries, 0 to 3177\n",
      "Data columns (total 7 columns):\n",
      " #   Column       Non-Null Count  Dtype  \n",
      "---  ------       --------------  -----  \n",
      " 0   date.utc     3178 non-null   object \n",
      " 1   location     3178 non-null   object \n",
      " 2   parameter    3178 non-null   object \n",
      " 3   value        3178 non-null   float64\n",
      " 4   id           3178 non-null   object \n",
      " 5   description  3178 non-null   object \n",
      " 6   name         3178 non-null   object \n",
      "dtypes: float64(1), object(6)\n",
      "memory usage: 198.6+ KB\n",
      "None\n",
      "                    date.utc location parameter  value    id  \\\n",
      "0  2019-06-18 06:00:00+00:00  BETR801      pm25   18.0  pm25   \n",
      "1  2019-06-17 08:00:00+00:00  BETR801      pm25    6.5  pm25   \n",
      "2  2019-06-17 07:00:00+00:00  BETR801      pm25   18.5  pm25   \n",
      "3  2019-06-17 06:00:00+00:00  BETR801      pm25   16.0  pm25   \n",
      "4  2019-06-17 05:00:00+00:00  BETR801      pm25    7.5  pm25   \n",
      "\n",
      "                                         description   name  \n",
      "0  Particulate matter less than 2.5 micrometers i...  PM2.5  \n",
      "1  Particulate matter less than 2.5 micrometers i...  PM2.5  \n",
      "2  Particulate matter less than 2.5 micrometers i...  PM2.5  \n",
      "3  Particulate matter less than 2.5 micrometers i...  PM2.5  \n",
      "4  Particulate matter less than 2.5 micrometers i...  PM2.5  \n"
     ]
    }
   ],
   "source": [
    "# After merge (join)\n",
    "air_quality = pd.merge(air_quality, air_quality_parameters, \n",
    "                       how='left', left_on='parameter', right_on='id')\n",
    "\n",
    "\n",
    "print(air_quality.info())\n",
    "\n",
    "print(air_quality.head())\n"
   ]
  },
  {
   "cell_type": "markdown",
   "id": "92299019",
   "metadata": {},
   "source": [
    "pandas支持inner, outer, left 與 right join。[數據庫樣式合併的用戶指南](https://pandas.pydata.org/docs/user_guide/merging.html#merging-join)提供了有關表的聯接/合併的更多信息。\n",
    "#### 避免使用full join\n",
    "\n",
    "![](images/08_sql-joins.png)\n"
   ]
  },
  {
   "cell_type": "markdown",
   "id": "8265bd25",
   "metadata": {},
   "source": [
    "## 如何輕鬆處理時間序列數據？\n",
    "\n",
    "### 使用pandas的datetime屬性\n",
    "\n",
    "範例數據: \n",
    "\n",
    "**Air quality NO2 data**\n",
    "    \n",
    "`air_quality_no2_long.csv`數據集為分別位於巴黎，安特衛普和倫敦的測量站FR04014，BETR801和倫敦威斯敏斯特提供了NO2值。"
   ]
  },
  {
   "cell_type": "code",
   "execution_count": 83,
   "id": "7e4a4bd7",
   "metadata": {},
   "outputs": [
    {
     "name": "stdout",
     "output_type": "stream",
     "text": [
      "<class 'pandas.core.frame.DataFrame'>\n",
      "RangeIndex: 2068 entries, 0 to 2067\n",
      "Data columns (total 7 columns):\n",
      " #   Column     Non-Null Count  Dtype  \n",
      "---  ------     --------------  -----  \n",
      " 0   city       2068 non-null   object \n",
      " 1   country    2068 non-null   object \n",
      " 2   datetime   2068 non-null   object \n",
      " 3   location   2068 non-null   object \n",
      " 4   parameter  2068 non-null   object \n",
      " 5   value      2068 non-null   float64\n",
      " 6   unit       2068 non-null   object \n",
      "dtypes: float64(1), object(6)\n",
      "memory usage: 113.2+ KB\n",
      "None\n",
      "    city country                   datetime location parameter  value   unit\n",
      "0  Paris      FR  2019-06-21 00:00:00+00:00  FR04014       no2   20.0  µg/m³\n",
      "1  Paris      FR  2019-06-20 23:00:00+00:00  FR04014       no2   21.8  µg/m³\n",
      "2  Paris      FR  2019-06-20 22:00:00+00:00  FR04014       no2   26.5  µg/m³\n",
      "3  Paris      FR  2019-06-20 21:00:00+00:00  FR04014       no2   24.9  µg/m³\n",
      "4  Paris      FR  2019-06-20 20:00:00+00:00  FR04014       no2   21.4  µg/m³\n"
     ]
    }
   ],
   "source": [
    "air_quality = pd.read_csv(\"data/air_quality_no2_long.csv\")\n",
    "\n",
    "air_quality = air_quality.rename(columns={\"date.utc\": \"datetime\"})\n",
    "\n",
    "\n",
    "print(air_quality.info())\n",
    "\n",
    "print(air_quality.head())"
   ]
  },
  {
   "cell_type": "code",
   "execution_count": 86,
   "id": "ad2305d6",
   "metadata": {},
   "outputs": [
    {
     "name": "stdout",
     "output_type": "stream",
     "text": [
      "['Paris' 'Antwerpen' 'London']\n",
      "<class 'numpy.ndarray'>\n"
     ]
    }
   ],
   "source": [
    "# find the unique list of city\n",
    "\n",
    "city_list = air_quality.city.unique()\n",
    "\n",
    "print(city_list)\n",
    "\n",
    "print(type(city_list))"
   ]
  },
  {
   "cell_type": "markdown",
   "id": "5afc1bcf",
   "metadata": {},
   "source": [
    "> <i class=\"fa fa-question-circle\" style=\"font-size: 22px;color:#DE3163;\"></i> 我想使用datetime列中的日期作為datetime對象而不是純文字\n",
    "\n",
    "> 原始datetime欄位中的值是字串，不提供任何datetime操作（例如，提取年，週等等..）。通過應用`to_datetime`函數，pandas解析了字串裡頭時間並將其轉換為datetime（即datetime64 [ns，UTC]）物件。在pandas中，它類似於python標準庫中的datetime.datetime的這些datetime物件歸類在pandas.Timestamp的package中。"
   ]
  },
  {
   "cell_type": "code",
   "execution_count": 87,
   "id": "bc15caf7",
   "metadata": {},
   "outputs": [
    {
     "name": "stdout",
     "output_type": "stream",
     "text": [
      "<class 'pandas.core.frame.DataFrame'>\n",
      "RangeIndex: 2068 entries, 0 to 2067\n",
      "Data columns (total 7 columns):\n",
      " #   Column     Non-Null Count  Dtype              \n",
      "---  ------     --------------  -----              \n",
      " 0   city       2068 non-null   object             \n",
      " 1   country    2068 non-null   object             \n",
      " 2   datetime   2068 non-null   datetime64[ns, UTC]\n",
      " 3   location   2068 non-null   object             \n",
      " 4   parameter  2068 non-null   object             \n",
      " 5   value      2068 non-null   float64            \n",
      " 6   unit       2068 non-null   object             \n",
      "dtypes: datetime64[ns, UTC](1), float64(1), object(5)\n",
      "memory usage: 113.2+ KB\n",
      "None\n",
      "    city country                  datetime location parameter  value   unit\n",
      "0  Paris      FR 2019-06-21 00:00:00+00:00  FR04014       no2   20.0  µg/m³\n",
      "1  Paris      FR 2019-06-20 23:00:00+00:00  FR04014       no2   21.8  µg/m³\n",
      "2  Paris      FR 2019-06-20 22:00:00+00:00  FR04014       no2   26.5  µg/m³\n",
      "3  Paris      FR 2019-06-20 21:00:00+00:00  FR04014       no2   24.9  µg/m³\n",
      "4  Paris      FR 2019-06-20 20:00:00+00:00  FR04014       no2   21.4  µg/m³\n"
     ]
    }
   ],
   "source": [
    "air_quality[\"datetime\"] = pd.to_datetime(air_quality[\"datetime\"])\n",
    "\n",
    "print(air_quality.info())\n",
    "\n",
    "print(air_quality.head())"
   ]
  },
  {
   "cell_type": "markdown",
   "id": "1c613a80",
   "metadata": {},
   "source": [
    "轉換String成為pandas.Timestamp物件有何作用？\n",
    "\n",
    "讓我們通過一些範例來說明它的價值。\n",
    "\n",
    "> <i class=\"fa fa-question-circle\" style=\"font-size: 22px;color:#DE3163;\"></i> 我們正在使用的時間序列數據集的開始和結束日期是什麼？"
   ]
  },
  {
   "cell_type": "code",
   "execution_count": 88,
   "id": "224daaa8",
   "metadata": {},
   "outputs": [
    {
     "name": "stdout",
     "output_type": "stream",
     "text": [
      "2019-05-07 01:00:00+00:00\n",
      "<class 'pandas._libs.tslibs.timestamps.Timestamp'>\n",
      "2019-06-21 00:00:00+00:00\n",
      "<class 'pandas._libs.tslibs.timestamps.Timestamp'>\n"
     ]
    }
   ],
   "source": [
    "datetime_min_value = air_quality[\"datetime\"].min()\n",
    "datetime_max_value = air_quality[\"datetime\"].max()\n",
    "\n",
    "print(datetime_min_value)\n",
    "print(type(datetime_min_value))\n",
    "\n",
    "print(datetime_max_value)\n",
    "print(type(datetime_max_value))"
   ]
  },
  {
   "cell_type": "markdown",
   "id": "458268e0",
   "metadata": {},
   "source": [
    "使用`pandas.Timestamp`作為`datetime`可以讓我們計算日期數據並使它們具有可比較性。因此，我們可以使用它來獲取時間序列的長度:"
   ]
  },
  {
   "cell_type": "code",
   "execution_count": 89,
   "id": "a6e82df0",
   "metadata": {},
   "outputs": [
    {
     "name": "stdout",
     "output_type": "stream",
     "text": [
      "44 days 23:00:00\n",
      "<class 'pandas._libs.tslibs.timedeltas.Timedelta'>\n"
     ]
    }
   ],
   "source": [
    "time_delta = air_quality[\"datetime\"].max() - air_quality[\"datetime\"].min()\n",
    "\n",
    "print(time_delta)\n",
    "\n",
    "print(type(time_delta))"
   ]
  },
  {
   "cell_type": "markdown",
   "id": "97c8ba93",
   "metadata": {},
   "source": [
    "結果是一個`pandas.Timedelta`物件，類似於標準Python庫中的`datetime.timedelta`並定義了time duration。"
   ]
  },
  {
   "cell_type": "markdown",
   "id": "48540d5a",
   "metadata": {},
   "source": [
    "> <i class=\"fa fa-question-circle\" style=\"font-size: 22px;color:#DE3163;\"></i> 我想在DataFrame中添加一個僅包含測量月份的新欄位\n",
    "\n",
    "> 通過使用Timestamp物件，pandas提供了許多與時間相關的屬性。例如，月份，年份，星期，季度，…等所有這些屬性都可以通過`dt`這個屬性來取得。\n",
    "\n",
    "參考: pandas [time and date components](https://pandas.pydata.org/docs/user_guide/timeseries.html#timeseries-components)"
   ]
  },
  {
   "cell_type": "code",
   "execution_count": 90,
   "id": "2d750ced",
   "metadata": {},
   "outputs": [
    {
     "name": "stdout",
     "output_type": "stream",
     "text": [
      "<class 'pandas.core.frame.DataFrame'>\n",
      "RangeIndex: 2068 entries, 0 to 2067\n",
      "Data columns (total 8 columns):\n",
      " #   Column     Non-Null Count  Dtype              \n",
      "---  ------     --------------  -----              \n",
      " 0   city       2068 non-null   object             \n",
      " 1   country    2068 non-null   object             \n",
      " 2   datetime   2068 non-null   datetime64[ns, UTC]\n",
      " 3   location   2068 non-null   object             \n",
      " 4   parameter  2068 non-null   object             \n",
      " 5   value      2068 non-null   float64            \n",
      " 6   unit       2068 non-null   object             \n",
      " 7   month      2068 non-null   int64              \n",
      "dtypes: datetime64[ns, UTC](1), float64(1), int64(1), object(5)\n",
      "memory usage: 129.4+ KB\n",
      "None\n",
      "    city country                  datetime location parameter  value   unit  \\\n",
      "0  Paris      FR 2019-06-21 00:00:00+00:00  FR04014       no2   20.0  µg/m³   \n",
      "1  Paris      FR 2019-06-20 23:00:00+00:00  FR04014       no2   21.8  µg/m³   \n",
      "2  Paris      FR 2019-06-20 22:00:00+00:00  FR04014       no2   26.5  µg/m³   \n",
      "3  Paris      FR 2019-06-20 21:00:00+00:00  FR04014       no2   24.9  µg/m³   \n",
      "4  Paris      FR 2019-06-20 20:00:00+00:00  FR04014       no2   21.4  µg/m³   \n",
      "\n",
      "   month  \n",
      "0      6  \n",
      "1      6  \n",
      "2      6  \n",
      "3      6  \n",
      "4      6  \n"
     ]
    }
   ],
   "source": [
    "air_quality[\"month\"] = air_quality[\"datetime\"].dt.month\n",
    "\n",
    "print(air_quality.info())\n",
    "\n",
    "print(air_quality.head())"
   ]
  },
  {
   "cell_type": "markdown",
   "id": "9b2f24aa",
   "metadata": {},
   "source": [
    "> <i class=\"fa fa-question-circle\" style=\"font-size: 22px;color:#DE3163;\"></i> 每個測量站一周中每天的平均NO2濃度是多少？"
   ]
  },
  {
   "cell_type": "code",
   "execution_count": 91,
   "id": "ea76899b",
   "metadata": {},
   "outputs": [
    {
     "data": {
      "text/plain": [
       "datetime  location          \n",
       "0         BETR801               27.875000\n",
       "          FR04014               24.856250\n",
       "          London Westminster    23.969697\n",
       "1         BETR801               22.214286\n",
       "          FR04014               30.999359\n",
       "          London Westminster    24.885714\n",
       "2         BETR801               21.125000\n",
       "          FR04014               29.165753\n",
       "          London Westminster    23.460432\n",
       "3         BETR801               27.500000\n",
       "          FR04014               28.600690\n",
       "          London Westminster    24.780142\n",
       "4         BETR801               28.400000\n",
       "          FR04014               31.617986\n",
       "          London Westminster    26.446809\n",
       "5         BETR801               33.500000\n",
       "          FR04014               25.266154\n",
       "          London Westminster    24.977612\n",
       "6         BETR801               21.896552\n",
       "          FR04014               23.274306\n",
       "          London Westminster    24.859155\n",
       "Name: value, dtype: float64"
      ]
     },
     "execution_count": 91,
     "metadata": {},
     "output_type": "execute_result"
    }
   ],
   "source": [
    "air_quality.groupby(\n",
    "    [air_quality[\"datetime\"].dt.weekday, \"location\"]\n",
    ")[\"value\"].mean()"
   ]
  },
  {
   "cell_type": "markdown",
   "id": "3de86d4b",
   "metadata": {},
   "source": [
    "## 如何處理文字數據？\n",
    "\n"
   ]
  },
  {
   "cell_type": "code",
   "execution_count": 92,
   "id": "d080dec4",
   "metadata": {},
   "outputs": [
    {
     "name": "stdout",
     "output_type": "stream",
     "text": [
      "<class 'pandas.core.frame.DataFrame'>\n",
      "RangeIndex: 891 entries, 0 to 890\n",
      "Data columns (total 12 columns):\n",
      " #   Column       Non-Null Count  Dtype  \n",
      "---  ------       --------------  -----  \n",
      " 0   PassengerId  891 non-null    int64  \n",
      " 1   Survived     891 non-null    int64  \n",
      " 2   Pclass       891 non-null    int64  \n",
      " 3   Name         891 non-null    object \n",
      " 4   Sex          891 non-null    object \n",
      " 5   Age          714 non-null    float64\n",
      " 6   SibSp        891 non-null    int64  \n",
      " 7   Parch        891 non-null    int64  \n",
      " 8   Ticket       891 non-null    object \n",
      " 9   Fare         891 non-null    float64\n",
      " 10  Cabin        204 non-null    object \n",
      " 11  Embarked     889 non-null    object \n",
      "dtypes: float64(2), int64(5), object(5)\n",
      "memory usage: 83.7+ KB\n",
      "None\n",
      "   PassengerId  Survived  Pclass  \\\n",
      "0            1         0       3   \n",
      "1            2         1       1   \n",
      "2            3         1       3   \n",
      "3            4         1       1   \n",
      "4            5         0       3   \n",
      "\n",
      "                                                Name     Sex   Age  SibSp  \\\n",
      "0                            Braund, Mr. Owen Harris    male  22.0      1   \n",
      "1  Cumings, Mrs. John Bradley (Florence Briggs Th...  female  38.0      1   \n",
      "2                             Heikkinen, Miss. Laina  female  26.0      0   \n",
      "3       Futrelle, Mrs. Jacques Heath (Lily May Peel)  female  35.0      1   \n",
      "4                           Allen, Mr. William Henry    male  35.0      0   \n",
      "\n",
      "   Parch            Ticket     Fare Cabin Embarked  \n",
      "0      0         A/5 21171   7.2500   NaN        S  \n",
      "1      0          PC 17599  71.2833   C85        C  \n",
      "2      0  STON/O2. 3101282   7.9250   NaN        S  \n",
      "3      0            113803  53.1000  C123        S  \n",
      "4      0            373450   8.0500   NaN        S  \n"
     ]
    }
   ],
   "source": [
    "titanic = pd.read_csv(\"data/titanic.csv\")\n",
    "\n",
    "print(titanic.info())\n",
    "\n",
    "print(titanic.head())"
   ]
  },
  {
   "cell_type": "markdown",
   "id": "883b3e32",
   "metadata": {},
   "source": [
    "> <i class=\"fa fa-question-circle\" style=\"font-size: 22px;color:#DE3163;\"></i> 將所有name都轉換成小寫。"
   ]
  },
  {
   "cell_type": "code",
   "execution_count": 93,
   "id": "74e8a70b",
   "metadata": {},
   "outputs": [
    {
     "name": "stdout",
     "output_type": "stream",
     "text": [
      "0                                braund, mr. owen harris\n",
      "1      cumings, mrs. john bradley (florence briggs th...\n",
      "2                                 heikkinen, miss. laina\n",
      "3           futrelle, mrs. jacques heath (lily may peel)\n",
      "4                               allen, mr. william henry\n",
      "                             ...                        \n",
      "886                                montvila, rev. juozas\n",
      "887                         graham, miss. margaret edith\n",
      "888             johnston, miss. catherine helen \"carrie\"\n",
      "889                                behr, mr. karl howell\n",
      "890                                  dooley, mr. patrick\n",
      "Name: Name, Length: 891, dtype: object\n",
      "<class 'pandas.core.series.Series'>\n"
     ]
    }
   ],
   "source": [
    "name_lowercase = titanic[\"Name\"].str.lower()\n",
    "\n",
    "print(name_lowercase)\n",
    "\n",
    "print(type(name_lowercase))"
   ]
  },
  {
   "cell_type": "markdown",
   "id": "ba35a367",
   "metadata": {},
   "source": [
    "> <i class=\"fa fa-question-circle\" style=\"font-size: 22px;color:#DE3163;\"></i> 通過提取逗號前的部分，創建一個包含乘客姓氏的新欄位。\n",
    "\n",
    "> 使用`Series.str.split()`方法，將每個值分成2個元素的列表返回。第一個元素是逗號前面的部分，第二個元素是逗號後面的部分。"
   ]
  },
  {
   "cell_type": "code",
   "execution_count": 94,
   "id": "27d0ce10",
   "metadata": {},
   "outputs": [
    {
     "data": {
      "text/plain": [
       "0                             [Braund,  Mr. Owen Harris]\n",
       "1      [Cumings,  Mrs. John Bradley (Florence Briggs ...\n",
       "2                              [Heikkinen,  Miss. Laina]\n",
       "3        [Futrelle,  Mrs. Jacques Heath (Lily May Peel)]\n",
       "4                            [Allen,  Mr. William Henry]\n",
       "                             ...                        \n",
       "886                             [Montvila,  Rev. Juozas]\n",
       "887                      [Graham,  Miss. Margaret Edith]\n",
       "888          [Johnston,  Miss. Catherine Helen \"Carrie\"]\n",
       "889                             [Behr,  Mr. Karl Howell]\n",
       "890                               [Dooley,  Mr. Patrick]\n",
       "Name: Name, Length: 891, dtype: object"
      ]
     },
     "execution_count": 94,
     "metadata": {},
     "output_type": "execute_result"
    }
   ],
   "source": [
    "titanic[\"Name\"].str.split(\",\")"
   ]
  },
  {
   "cell_type": "code",
   "execution_count": 100,
   "id": "914f265e",
   "metadata": {},
   "outputs": [
    {
     "name": "stdout",
     "output_type": "stream",
     "text": [
      "     PassengerId  Survived  Pclass  \\\n",
      "0              1         0       3   \n",
      "1              2         1       1   \n",
      "2              3         1       3   \n",
      "3              4         1       1   \n",
      "4              5         0       3   \n",
      "..           ...       ...     ...   \n",
      "886          887         0       2   \n",
      "887          888         1       1   \n",
      "888          889         0       3   \n",
      "889          890         1       1   \n",
      "890          891         0       3   \n",
      "\n",
      "                                                  Name     Sex   Age  SibSp  \\\n",
      "0                              Braund, Mr. Owen Harris    male  22.0      1   \n",
      "1    Cumings, Mrs. John Bradley (Florence Briggs Th...  female  38.0      1   \n",
      "2                               Heikkinen, Miss. Laina  female  26.0      0   \n",
      "3         Futrelle, Mrs. Jacques Heath (Lily May Peel)  female  35.0      1   \n",
      "4                             Allen, Mr. William Henry    male  35.0      0   \n",
      "..                                                 ...     ...   ...    ...   \n",
      "886                              Montvila, Rev. Juozas    male  27.0      0   \n",
      "887                       Graham, Miss. Margaret Edith  female  19.0      0   \n",
      "888           Johnston, Miss. Catherine Helen \"Carrie\"  female   NaN      1   \n",
      "889                              Behr, Mr. Karl Howell    male  26.0      0   \n",
      "890                                Dooley, Mr. Patrick    male  32.0      0   \n",
      "\n",
      "     Parch            Ticket     Fare Cabin Embarked    Surname  \n",
      "0        0         A/5 21171   7.2500   NaN        S     Braund  \n",
      "1        0          PC 17599  71.2833   C85        C    Cumings  \n",
      "2        0  STON/O2. 3101282   7.9250   NaN        S  Heikkinen  \n",
      "3        0            113803  53.1000  C123        S   Futrelle  \n",
      "4        0            373450   8.0500   NaN        S      Allen  \n",
      "..     ...               ...      ...   ...      ...        ...  \n",
      "886      0            211536  13.0000   NaN        S   Montvila  \n",
      "887      0            112053  30.0000   B42        S     Graham  \n",
      "888      2        W./C. 6607  23.4500   NaN        S   Johnston  \n",
      "889      0            111369  30.0000  C148        C       Behr  \n",
      "890      0            370376   7.7500   NaN        Q     Dooley  \n",
      "\n",
      "[891 rows x 13 columns]\n"
     ]
    }
   ],
   "source": [
    "titanic[\"Surname\"] = titanic[\"Name\"].str.split(\",\").str.get(0)\n",
    "\n",
    "print(titanic[\"Surname\"])"
   ]
  },
  {
   "cell_type": "markdown",
   "id": "7aa223f0",
   "metadata": {},
   "source": [
    "> <i class=\"fa fa-question-circle\" style=\"font-size: 22px;color:#DE3163;\"></i> 在Titanic數據裡提取有關伯爵夫人(countesses)的乘客數據。"
   ]
  },
  {
   "cell_type": "code",
   "execution_count": 96,
   "id": "38b469c2",
   "metadata": {},
   "outputs": [
    {
     "data": {
      "text/plain": [
       "0      False\n",
       "1      False\n",
       "2      False\n",
       "3      False\n",
       "4      False\n",
       "       ...  \n",
       "886    False\n",
       "887    False\n",
       "888    False\n",
       "889    False\n",
       "890    False\n",
       "Name: Name, Length: 891, dtype: bool"
      ]
     },
     "execution_count": 96,
     "metadata": {},
     "output_type": "execute_result"
    }
   ],
   "source": [
    "titanic[\"Name\"].str.contains(\"Countess\")"
   ]
  },
  {
   "cell_type": "code",
   "execution_count": 97,
   "id": "2d59eb45",
   "metadata": {},
   "outputs": [
    {
     "data": {
      "text/html": [
       "<div>\n",
       "<style scoped>\n",
       "    .dataframe tbody tr th:only-of-type {\n",
       "        vertical-align: middle;\n",
       "    }\n",
       "\n",
       "    .dataframe tbody tr th {\n",
       "        vertical-align: top;\n",
       "    }\n",
       "\n",
       "    .dataframe thead th {\n",
       "        text-align: right;\n",
       "    }\n",
       "</style>\n",
       "<table border=\"1\" class=\"dataframe\">\n",
       "  <thead>\n",
       "    <tr style=\"text-align: right;\">\n",
       "      <th></th>\n",
       "      <th>PassengerId</th>\n",
       "      <th>Survived</th>\n",
       "      <th>Pclass</th>\n",
       "      <th>Name</th>\n",
       "      <th>Sex</th>\n",
       "      <th>Age</th>\n",
       "      <th>SibSp</th>\n",
       "      <th>Parch</th>\n",
       "      <th>Ticket</th>\n",
       "      <th>Fare</th>\n",
       "      <th>Cabin</th>\n",
       "      <th>Embarked</th>\n",
       "      <th>Surname</th>\n",
       "    </tr>\n",
       "  </thead>\n",
       "  <tbody>\n",
       "    <tr>\n",
       "      <th>759</th>\n",
       "      <td>760</td>\n",
       "      <td>1</td>\n",
       "      <td>1</td>\n",
       "      <td>Rothes, the Countess. of (Lucy Noel Martha Dye...</td>\n",
       "      <td>female</td>\n",
       "      <td>33.0</td>\n",
       "      <td>0</td>\n",
       "      <td>0</td>\n",
       "      <td>110152</td>\n",
       "      <td>86.5</td>\n",
       "      <td>B77</td>\n",
       "      <td>S</td>\n",
       "      <td>Rothes</td>\n",
       "    </tr>\n",
       "  </tbody>\n",
       "</table>\n",
       "</div>"
      ],
      "text/plain": [
       "     PassengerId  Survived  Pclass  \\\n",
       "759          760         1       1   \n",
       "\n",
       "                                                  Name     Sex   Age  SibSp  \\\n",
       "759  Rothes, the Countess. of (Lucy Noel Martha Dye...  female  33.0      0   \n",
       "\n",
       "     Parch  Ticket  Fare Cabin Embarked Surname  \n",
       "759      0  110152  86.5   B77        S  Rothes  "
      ]
     },
     "execution_count": 97,
     "metadata": {},
     "output_type": "execute_result"
    }
   ],
   "source": [
    "titanic[titanic[\"Name\"].str.contains(\"Countess\")]"
   ]
  },
  {
   "cell_type": "markdown",
   "id": "a50c0513",
   "metadata": {},
   "source": [
    "> <i class=\"fa fa-question-circle\" style=\"font-size: 22px;color:#DE3163;\"></i> 哪位Titanic乘客的名字最長？"
   ]
  },
  {
   "cell_type": "code",
   "execution_count": 98,
   "id": "29ea3fe6",
   "metadata": {},
   "outputs": [
    {
     "data": {
      "text/plain": [
       "0      23\n",
       "1      51\n",
       "2      22\n",
       "3      44\n",
       "4      24\n",
       "       ..\n",
       "886    21\n",
       "887    28\n",
       "888    40\n",
       "889    21\n",
       "890    19\n",
       "Name: Name, Length: 891, dtype: int64"
      ]
     },
     "execution_count": 98,
     "metadata": {},
     "output_type": "execute_result"
    }
   ],
   "source": [
    "titanic[\"Name\"].str.len()"
   ]
  },
  {
   "cell_type": "markdown",
   "id": "77487534",
   "metadata": {},
   "source": [
    "要獲得最長的名稱，我們首先必須在“Name”列中獲得每個名字的長度。通過使用pandas字串方法，`Series.str.len()`函數將分別應用於每個名稱（按元素排列）。"
   ]
  },
  {
   "cell_type": "code",
   "execution_count": 99,
   "id": "d3f0fb15",
   "metadata": {},
   "outputs": [
    {
     "data": {
      "text/plain": [
       "307"
      ]
     },
     "execution_count": 99,
     "metadata": {},
     "output_type": "execute_result"
    }
   ],
   "source": [
    "titanic[\"Name\"].str.len().idxmax()"
   ]
  },
  {
   "cell_type": "markdown",
   "id": "010a712c",
   "metadata": {},
   "source": [
    "接下來，我們需要在\"Name\"長度最大的表中獲得相應的位置，最好是索引標籤。 `idxmax()`方法正是這樣做的。它不是字串方法，並且應用於整數，因此不使用str。"
   ]
  },
  {
   "cell_type": "code",
   "execution_count": 101,
   "id": "31c852dc",
   "metadata": {},
   "outputs": [
    {
     "data": {
      "text/plain": [
       "'Penasco y Castellana, Mrs. Victor de Satode (Maria Josefa Perez de Soto y Vallejo)'"
      ]
     },
     "execution_count": 101,
     "metadata": {},
     "output_type": "execute_result"
    }
   ],
   "source": [
    "titanic.loc[titanic[\"Name\"].str.len().idxmax(), \"Name\"]"
   ]
  },
  {
   "cell_type": "markdown",
   "id": "f9b63fe2",
   "metadata": {},
   "source": [
    "> <i class=\"fa fa-question-circle\" style=\"font-size: 22px;color:#DE3163;\"></i> 在'Sex'列中，將'male'的值替換為'M'，將'female'的值替換為'F'。\n",
    "\n",
    "> 儘管`replace()`不是字串方法，但它提供了使用映射或詞彙表轉換某些值的便捷方法。它需要dictionary來定義 {from : to}的映射。"
   ]
  },
  {
   "cell_type": "code",
   "execution_count": 102,
   "id": "fe9ebdaf",
   "metadata": {},
   "outputs": [
    {
     "name": "stdout",
     "output_type": "stream",
     "text": [
      "0      M\n",
      "1      F\n",
      "2      F\n",
      "3      F\n",
      "4      M\n",
      "      ..\n",
      "886    M\n",
      "887    F\n",
      "888    F\n",
      "889    M\n",
      "890    M\n",
      "Name: Sex_short, Length: 891, dtype: object\n"
     ]
    }
   ],
   "source": [
    "titanic[\"Sex_short\"] = titanic[\"Sex\"].replace({\"male\": \"M\", \"female\": \"F\"})\n",
    "\n",
    "print(titanic[\"Sex_short\"])"
   ]
  }
 ],
 "metadata": {
  "kernelspec": {
   "display_name": "Python 3 (ipykernel)",
   "language": "python",
   "name": "python3"
  },
  "language_info": {
   "codemirror_mode": {
    "name": "ipython",
    "version": 3
   },
   "file_extension": ".py",
   "mimetype": "text/x-python",
   "name": "python",
   "nbconvert_exporter": "python",
   "pygments_lexer": "ipython3",
   "version": "3.9.6"
  },
  "toc": {
   "base_numbering": 1,
   "nav_menu": {},
   "number_sections": true,
   "sideBar": true,
   "skip_h1_title": false,
   "title_cell": "Table of Contents",
   "title_sidebar": "Contents",
   "toc_cell": false,
   "toc_position": {
    "height": "calc(100% - 180px)",
    "left": "10px",
    "top": "150px",
    "width": "314.5px"
   },
   "toc_section_display": true,
   "toc_window_display": true
  }
 },
 "nbformat": 4,
 "nbformat_minor": 5
}
